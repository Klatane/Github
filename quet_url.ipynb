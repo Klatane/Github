{
  "nbformat": 4,
  "nbformat_minor": 0,
  "metadata": {
    "colab": {
      "name": "Untitled16.ipynb",
      "provenance": [],
      "collapsed_sections": [],
      "authorship_tag": "ABX9TyPap9IjXyocMPNx+y4XqtCB",
      "include_colab_link": true
    },
    "kernelspec": {
      "name": "python3",
      "display_name": "Python 3"
    }
  },
  "cells": [
    {
      "cell_type": "markdown",
      "metadata": {
        "id": "view-in-github",
        "colab_type": "text"
      },
      "source": [
        "<a href=\"https://colab.research.google.com/github/Klatane/Github/blob/master/quet_url.ipynb\" target=\"_parent\"><img src=\"https://colab.research.google.com/assets/colab-badge.svg\" alt=\"Open In Colab\"/></a>"
      ]
    },
    {
      "cell_type": "code",
      "metadata": {
        "id": "yKYTFuF1y8WA"
      },
      "source": [
        "import requests\r\n",
        "from bs4 import BeautifulSoup\r\n",
        "import re\r\n",
        "\r\n",
        "\r\n",
        "# Sửa Url\r\n",
        "def sua_url_goc(url_goc):\r\n",
        "    if url_goc[-1] == '/':\r\n",
        "        url_goc = url_goc[0: -1]\r\n",
        "        return url_goc\r\n",
        "    else:\r\n",
        "        return url_goc\r\n",
        "\r\n",
        "#tìm url tải xuống\r\n",
        "#output=url tìm đc\r\n",
        "def url_lien_quan(url, url_goc):\r\n",
        "    url_tim_duoc = set()\r\n",
        "    link = requests.get(url)\r\n",
        "    link_soup = BeautifulSoup(link.text, 'html.parser')\r\n",
        "    kq = link_soup('a', attrs={'href': True})\r\n",
        "    for i in kq:\r\n",
        "        a = i['href']\r\n",
        "        urlmau1 = f'^{url_goc}[^?#]*$'\r\n",
        "        urlmau2 = '^/[^?#]*$'\r\n",
        "        if re.match(urlmau1, a):\r\n",
        "            url_tim_duoc.add(a)\r\n",
        "        else:\r\n",
        "            if re.match(urlmau2, a):\r\n",
        "                url_lien_quan = f'{url_goc}{a}'\r\n",
        "                url_tim_duoc.add(url_lien_quan)\r\n",
        "    return url_tim_duoc\r\n",
        "\r\n",
        "\r\n",
        "# tăng số url lên\r\n",
        "# output= số url đạt yêu cầu\r\n",
        "def them_va_duyet_hang_cho(hang_cho, url_goc, so_luong_trang):\r\n",
        "    history = hang_cho\r\n",
        "    while (len(hang_cho) > 0) and (len(history) < so_luong_trang):\r\n",
        "        url_tim_duoc = url_lien_quan(hang_cho.pop(), url_goc)\r\n",
        "        hang_cho = hang_cho | (url_tim_duoc - history)\r\n",
        "        history = history | url_tim_duoc\r\n",
        "    return history\r\n",
        "\r\n",
        "\r\n",
        "def main():\r\n",
        "    url_tim_duoc = url_lien_quan('https://vietnamnet.vn', 'https://vietnamnet.vn')\r\n",
        "    history = them_va_duyet_hang_cho(url_tim_duoc)\r\n",
        "    for i in history:\r\n",
        "        print(i)\r\n",
        "\r\n",
        "\r\n",
        "if __name__ == '__main__':\r\n",
        "    main()"
      ],
      "execution_count": null,
      "outputs": []
    }
  ]
}