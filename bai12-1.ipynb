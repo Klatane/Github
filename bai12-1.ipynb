{
  "nbformat": 4,
  "nbformat_minor": 0,
  "metadata": {
    "colab": {
      "name": "Untitled4.ipynb",
      "provenance": [],
      "collapsed_sections": [],
      "authorship_tag": "ABX9TyO6aLeCctwsrm/JrUj3lRN5",
      "include_colab_link": true
    },
    "kernelspec": {
      "name": "python3",
      "display_name": "Python 3"
    }
  },
  "cells": [
    {
      "cell_type": "markdown",
      "metadata": {
        "id": "view-in-github",
        "colab_type": "text"
      },
      "source": [
        "<a href=\"https://colab.research.google.com/github/Klatane/Github/blob/master/bai12-1.ipynb\" target=\"_parent\"><img src=\"https://colab.research.google.com/assets/colab-badge.svg\" alt=\"Open In Colab\"/></a>"
      ]
    },
    {
      "cell_type": "code",
      "metadata": {
        "id": "Qq6_ozUFdY8r"
      },
      "source": [
        "# nhap n trong khoang cho phep\n",
        "import random\n",
        "while True:\n",
        "    n=int(input(\"n=\"))\n",
        "    if n in range(50,1001):\n",
        "    \n",
        "      break       \n",
        "    else:\n",
        "        print(\"nhap lai\")\n",
        "randomlist = random.sample(range(-1000,1001), n)\n",
        "print(randomlist)\n",
        "\n",
        "\n",
        "a = []\n",
        "for i in range(0, n):\n",
        "    x = round(random.uniform(-1000,1000),1)\n",
        "    a.append(x)\n",
        "\n",
        "print(\"List gồm các phân tử số thực là\")\n",
        "print(a)\n",
        "    "
      ],
      "execution_count": null,
      "outputs": []
    }
  ]
}