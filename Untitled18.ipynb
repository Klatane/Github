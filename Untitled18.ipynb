{
  "nbformat": 4,
  "nbformat_minor": 0,
  "metadata": {
    "colab": {
      "name": "Untitled18.ipynb",
      "provenance": [],
      "authorship_tag": "ABX9TyPDut2Jq/U9dmJCot+SNPzP",
      "include_colab_link": true
    },
    "kernelspec": {
      "name": "python3",
      "display_name": "Python 3"
    }
  },
  "cells": [
    {
      "cell_type": "markdown",
      "metadata": {
        "id": "view-in-github",
        "colab_type": "text"
      },
      "source": [
        "<a href=\"https://colab.research.google.com/github/Klatane/Github/blob/master/Untitled18.ipynb\" target=\"_parent\"><img src=\"https://colab.research.google.com/assets/colab-badge.svg\" alt=\"Open In Colab\"/></a>"
      ]
    },
    {
      "cell_type": "code",
      "metadata": {
        "colab": {
          "base_uri": "https://localhost:8080/"
        },
        "id": "PV5IxcrkGG4o",
        "outputId": "a50b6361-44a1-46d7-c2e3-028b40e061b7"
      },
      "source": [
        "\r\n",
        "a = input(\"nhap a = \")\r\n",
        "a = int(a)\r\n",
        "b = input(\"nhap b = \")\r\n",
        "b = int(b)\r\n",
        "while (a != b):\r\n",
        "    if (a > b):\r\n",
        "        a -= b;\r\n",
        "    else:\r\n",
        "        b -= a;\r\n",
        "uscln = a\r\n",
        "print(uscln)\r\n",
        " "
      ],
      "execution_count": 10,
      "outputs": [
        {
          "output_type": "stream",
          "text": [
            "nhap a = 9\n",
            "nhap b = 12\n",
            "3\n"
          ],
          "name": "stdout"
        }
      ]
    }
  ]
}