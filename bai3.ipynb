{
  "nbformat": 4,
  "nbformat_minor": 0,
  "metadata": {
    "colab": {
      "name": "Untitled3.ipynb",
      "provenance": [],
      "collapsed_sections": [],
      "authorship_tag": "ABX9TyPU/XEfyW/gH/UYFzjPWUVM",
      "include_colab_link": true
    },
    "kernelspec": {
      "name": "python3",
      "display_name": "Python 3"
    }
  },
  "cells": [
    {
      "cell_type": "markdown",
      "metadata": {
        "id": "view-in-github",
        "colab_type": "text"
      },
      "source": [
        "<a href=\"https://colab.research.google.com/github/Klatane/Github/blob/master/bai3.ipynb\" target=\"_parent\"><img src=\"https://colab.research.google.com/assets/colab-badge.svg\" alt=\"Open In Colab\"/></a>"
      ]
    },
    {
      "cell_type": "code",
      "metadata": {
        "id": "jJbGOaGZY9t0"
      },
      "source": [
        "# cấu trúc của for là\n",
        "# for k in chuoilap:\n",
        "    # task cua for\n",
        "# trong đó thì k là biến lặp nhận giá trị theo từng giá trị bên chuỗi lặp \n",
        "# ví dụ\n",
        "for k in range(1,4):\n",
        "    print(k)\n",
        "#hoặc\n",
        "for k in range(40)    :\n",
        "    print(k)\n",
        "#thay đổi bước nhảy\n",
        "for k in range(1,20,2):\n",
        "    print(k)"
      ],
      "execution_count": null,
      "outputs": []
    }
  ]
}