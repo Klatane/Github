{
  "nbformat": 4,
  "nbformat_minor": 0,
  "metadata": {
    "colab": {
      "name": "Untitled15.ipynb",
      "provenance": [],
      "authorship_tag": "ABX9TyOl80sfWslo4ZGL/c7CvqHN",
      "include_colab_link": true
    },
    "kernelspec": {
      "name": "python3",
      "display_name": "Python 3"
    }
  },
  "cells": [
    {
      "cell_type": "markdown",
      "metadata": {
        "id": "view-in-github",
        "colab_type": "text"
      },
      "source": [
        "<a href=\"https://colab.research.google.com/github/Klatane/Github/blob/master/luu_url.ipynb\" target=\"_parent\"><img src=\"https://colab.research.google.com/assets/colab-badge.svg\" alt=\"Open In Colab\"/></a>"
      ]
    },
    {
      "cell_type": "code",
      "metadata": {
        "id": "-yXf6kqAybve"
      },
      "source": [
        "import os\r\n",
        "import requests\r\n",
        "import codecs\r\n",
        "\r\n",
        "\r\n",
        "# tạo thư mục và chuyển tới thư mục đó\r\n",
        "# cần truyền vào cho hàm Tên thư mục\r\n",
        "def tao_thu_muc(name):\r\n",
        "    os.mkdir(name)\r\n",
        "    os.chdir(name)\r\n",
        "\r\n",
        "\r\n",
        "# lưu file\r\n",
        "# truyền vào url cần lưu và Số thứ tự để đặt tên file cần lưu\r\n",
        "def luu_file(url, stt):\r\n",
        "    file = codecs.open('file' + str(stt) + '.html', 'w', 'utf8')\r\n",
        "    file.write(requests.get(url).text)\r\n",
        "    file.close()\r\n",
        "\r\n",
        "\r\n",
        "# hàm lưu tất cả các url đã tim được\r\n",
        "def luu_tat_ca_file(history, so_luong_trang):\r\n",
        "    for (stt, url_con) in enumerate(history):\r\n",
        "        if stt >= so_luong_trang:\r\n",
        "            break\r\n",
        "        luu_file(url_con, stt)\r\n",
        "        print(f'{stt} {url_con}')\r\n",
        "\r\n",
        "\r\n",
        "def main():\r\n",
        "    tao_thu_muc('trioc')\r\n",
        "    luu_file('https://baomoi.com/', 2)\r\n",
        "\r\n",
        "\r\n",
        "if __name__ == \"__main__\":\r\n",
        "    main()"
      ],
      "execution_count": null,
      "outputs": []
    }
  ]
}