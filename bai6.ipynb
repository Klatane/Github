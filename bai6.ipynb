{
  "nbformat": 4,
  "nbformat_minor": 0,
  "metadata": {
    "colab": {
      "name": "Untitled3.ipynb",
      "provenance": [],
      "collapsed_sections": [],
      "authorship_tag": "ABX9TyOZ+7g6De7qrc8yoSIdJ7rq",
      "include_colab_link": true
    },
    "kernelspec": {
      "name": "python3",
      "display_name": "Python 3"
    }
  },
  "cells": [
    {
      "cell_type": "markdown",
      "metadata": {
        "id": "view-in-github",
        "colab_type": "text"
      },
      "source": [
        "<a href=\"https://colab.research.google.com/github/Klatane/Github/blob/master/bai6.ipynb\" target=\"_parent\"><img src=\"https://colab.research.google.com/assets/colab-badge.svg\" alt=\"Open In Colab\"/></a>"
      ]
    },
    {
      "cell_type": "code",
      "metadata": {
        "id": "sPqUEvc2Y-kr"
      },
      "source": [
        "import random\n",
        "print(\"nhập số phân tử trong list\")\n",
        "n=input()\n",
        "n=int(n)\n",
        "A=[random.random() for i in range(n)]\n",
        "print(A)\n",
        "S=0\n",
        "S=int(S)\n",
        "i=1\n",
        "i=int(i)\n",
        "while i<n:\n",
        "    if S<A[i]:\n",
        "        S=A[i]\n",
        "    i=i+1\n",
        "\n",
        "\n",
        "print(\"giá trị lớn nhất trong list là\",S)    "
      ],
      "execution_count": null,
      "outputs": []
    }
  ]
}