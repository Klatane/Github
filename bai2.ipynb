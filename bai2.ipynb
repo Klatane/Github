{
  "nbformat": 4,
  "nbformat_minor": 0,
  "metadata": {
    "colab": {
      "name": "Untitled3.ipynb",
      "provenance": [],
      "collapsed_sections": [],
      "authorship_tag": "ABX9TyN2jDaO6ynb53LEakENQ6bF",
      "include_colab_link": true
    },
    "kernelspec": {
      "name": "python3",
      "display_name": "Python 3"
    }
  },
  "cells": [
    {
      "cell_type": "markdown",
      "metadata": {
        "id": "view-in-github",
        "colab_type": "text"
      },
      "source": [
        "<a href=\"https://colab.research.google.com/github/Klatane/Github/blob/master/bai2.ipynb\" target=\"_parent\"><img src=\"https://colab.research.google.com/assets/colab-badge.svg\" alt=\"Open In Colab\"/></a>"
      ]
    },
    {
      "cell_type": "code",
      "metadata": {
        "id": "A9LGENw7Y9Qu"
      },
      "source": [
        "# giải n phương trình ở while\n",
        "print(\"nhập số phương trình bạn muốn giải:\")\n",
        "n=input()\n",
        "n=int(n)\n",
        "i=1\n",
        "i=int(i)\n",
        "while i<=n:\n",
        "    print(\"hệ số của phương trình thứ \",i,\"là\")\n",
        "    a=input(\"a=\")\n",
        "    a=int(a)\n",
        "    b=input(\"b=\")\n",
        "    b=int(b)       \n",
        "    if a==0:\n",
        "        if b==0:\n",
        "            print (\"phương trình vô số nghiệm\")\n",
        "        else:\n",
        "            print(\"phương trình vô nghiệm\")\n",
        "    else:\n",
        "        print(\"phương trình có nghiệm là:\",-b/a)\n",
        "        i=i+1\n",
        "        # giải phương trình ở for\n",
        "print(\"nhập số phương trình\") \n",
        "k=input()       \n",
        "k=int(k)\n",
        "for x in range(1,k+1):\n",
        " a=input(\"a=\")\n",
        " a=int(a)\n",
        " b=input(\"b=\")\n",
        " b=int(b)       \n",
        " if a==0:\n",
        "        if b==0:\n",
        "            print (\"phương trình vô số nghiệm\")\n",
        "        else:\n",
        "            print(\"phương trình vô nghiệm\")\n",
        " else:\n",
        "        print(\"phương trình có nghiệm là:\",-b/a)"
      ],
      "execution_count": null,
      "outputs": []
    }
  ]
}