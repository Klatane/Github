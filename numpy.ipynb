{
  "nbformat": 4,
  "nbformat_minor": 0,
  "metadata": {
    "colab": {
      "name": "Untitled12.ipynb",
      "provenance": [],
      "authorship_tag": "ABX9TyM2wubQmX7LZA0brRe2v5KV",
      "include_colab_link": true
    },
    "kernelspec": {
      "name": "python3",
      "display_name": "Python 3"
    }
  },
  "cells": [
    {
      "cell_type": "markdown",
      "metadata": {
        "id": "view-in-github",
        "colab_type": "text"
      },
      "source": [
        "<a href=\"https://colab.research.google.com/github/Klatane/Github/blob/master/numpy.ipynb\" target=\"_parent\"><img src=\"https://colab.research.google.com/assets/colab-badge.svg\" alt=\"Open In Colab\"/></a>"
      ]
    },
    {
      "cell_type": "code",
      "metadata": {
        "colab": {
          "base_uri": "https://localhost:8080/"
        },
        "id": "5tzuKLo9NJSc",
        "outputId": "8e6e42ab-9c81-4891-9e96-ad2e2df1f324"
      },
      "source": [
        "import numpy as np\r\n",
        "A = np.array([[9, 8], [8, -9]])\r\n",
        "B = np.array([[9, 3], [2, 6]])\r\n",
        "C = A + B\r\n",
        "print(\"A-B\", A-B)\r\n",
        "print(\"A+B\", C)\r\n",
        "D = A.dot(B)\r\n",
        "print(\"A*B\", D)\r\n",
        "print(\"Chuyen Vi A\", A.transpose())\r\n",
        "print(\"A/B\", np.dot(A, (np.linalg.inv(B))))\r\n",
        "print(\"rank cua A\",numpy.linalg.matrix_rank(A))\r\n",
        "print(\"Nghich dao cua A\", np.linalg.inv(A))\r\n",
        "\r\n"
      ],
      "execution_count": 7,
      "outputs": [
        {
          "output_type": "stream",
          "text": [
            "A-B [[  0   5]\n",
            " [  6 -15]]\n",
            "A+B [[18 11]\n",
            " [10 -3]]\n",
            "A*B [[ 97  75]\n",
            " [ 54 -30]]\n",
            "Chuyen Vi A [[ 9  8]\n",
            " [ 8 -9]]\n",
            "A/B [[ 0.79166667  0.9375    ]\n",
            " [ 1.375      -2.1875    ]]\n"
          ],
          "name": "stdout"
        }
      ]
    }
  ]
}