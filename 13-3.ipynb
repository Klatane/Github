{
  "nbformat": 4,
  "nbformat_minor": 0,
  "metadata": {
    "colab": {
      "name": "Untitled12.ipynb",
      "provenance": [],
      "authorship_tag": "ABX9TyNd5yT6qOsV7KYOp+NiFruE",
      "include_colab_link": true
    },
    "kernelspec": {
      "name": "python3",
      "display_name": "Python 3"
    }
  },
  "cells": [
    {
      "cell_type": "markdown",
      "metadata": {
        "id": "view-in-github",
        "colab_type": "text"
      },
      "source": [
        "<a href=\"https://colab.research.google.com/github/Klatane/Github/blob/master/13-3.ipynb\" target=\"_parent\"><img src=\"https://colab.research.google.com/assets/colab-badge.svg\" alt=\"Open In Colab\"/></a>"
      ]
    },
    {
      "cell_type": "code",
      "metadata": {
        "id": "2Hu4GMf5wLnc"
      },
      "source": [
        "import os, random, string, math\r\n",
        "\r\n",
        "def get_size(start_path = '.'):\r\n",
        "    total_size = 0\r\n",
        "    for dirpath, dirnames, filenames in os.walk(start_path):\r\n",
        "        for f in filenames:\r\n",
        "            fp = os.path.join(dirpath, f)\r\n",
        "            total_size += os.path.getsize(fp)\r\n",
        "    return total_size\r\n",
        "\r\n",
        "def random_string(length):\r\n",
        "    letters = string.ascii_lowercase + string.ascii_uppercase + '0123456789'\r\n",
        "    return ''.join(random.choice(letters) for i in range(length))\r\n",
        "\r\n",
        "\r\n",
        "foldername = str(input('Nhập tên thư mục: '))\r\n",
        "filename = str(input('Nhập tên tệp tin: '))\r\n",
        "don_vi = 1048576 #1kb tinh theo byte\r\n",
        "size = don_vi * float(input('Nhập dung lượng dữ liệu giới hạn là 1MB <= size <= 1024MB: '))\r\n",
        "os.mkdir('C:\\%s' %foldername)\r\n",
        "os.chdir('C:\\%s' %foldername)\r\n",
        "for i in range(int(size/1048576)+1):\r\n",
        "    if float(get_size('C:\\%s' %foldername)) <= size-1024*1000:\r\n",
        "        f = open(filename+'%d' %i,'a')\r\n",
        "        f.write(random_string(1024*1000))\r\n",
        "        f.close()\r\n",
        "    else:\r\n",
        "        f = open(filename+'%d' %i,'a')\r\n",
        "        f.write(random_string(int(size)-get_size('C:\\%s' %foldername)))\r\n",
        "        f.close()"
      ],
      "execution_count": null,
      "outputs": []
    }
  ]
}