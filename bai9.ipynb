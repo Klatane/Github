{
  "nbformat": 4,
  "nbformat_minor": 0,
  "metadata": {
    "colab": {
      "name": "Untitled3.ipynb",
      "provenance": [],
      "collapsed_sections": [],
      "authorship_tag": "ABX9TyMUx1UNfIvPHDiZW4RkNl/4",
      "include_colab_link": true
    },
    "kernelspec": {
      "name": "python3",
      "display_name": "Python 3"
    }
  },
  "cells": [
    {
      "cell_type": "markdown",
      "metadata": {
        "id": "view-in-github",
        "colab_type": "text"
      },
      "source": [
        "<a href=\"https://colab.research.google.com/github/Klatane/Github/blob/master/bai9.ipynb\" target=\"_parent\"><img src=\"https://colab.research.google.com/assets/colab-badge.svg\" alt=\"Open In Colab\"/></a>"
      ]
    },
    {
      "cell_type": "code",
      "metadata": {
        "id": "2nDJiFPdY_T2"
      },
      "source": [
        "import os\n",
        "import time\n",
        "while True :\n",
        "    a = input(\"do you want shutdown ? (y/n): \")\n",
        "    if a == 'n' or a == 'N':\n",
        "        print('please wait:')\n",
        "        for i in range(1 , 31):\n",
        "            print(i,\" \")\n",
        "            time.sleep(1) \n",
        "            \n",
        "    else:\n",
        "        os.system(\"shutdown /s /t 3\")\n",
        "        \n",
        "        break"
      ],
      "execution_count": null,
      "outputs": []
    }
  ]
}