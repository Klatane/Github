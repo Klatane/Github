{
  "nbformat": 4,
  "nbformat_minor": 0,
  "metadata": {
    "colab": {
      "name": "Untitled21.ipynb",
      "provenance": [],
      "authorship_tag": "ABX9TyNQ9a1PzMvpVUz56ewKYStm",
      "include_colab_link": true
    },
    "kernelspec": {
      "name": "python3",
      "display_name": "Python 3"
    },
    "language_info": {
      "name": "python"
    }
  },
  "cells": [
    {
      "cell_type": "markdown",
      "metadata": {
        "id": "view-in-github",
        "colab_type": "text"
      },
      "source": [
        "<a href=\"https://colab.research.google.com/github/Klatane/Github/blob/master/Untitled21.ipynb\" target=\"_parent\"><img src=\"https://colab.research.google.com/assets/colab-badge.svg\" alt=\"Open In Colab\"/></a>"
      ]
    },
    {
      "cell_type": "code",
      "metadata": {
        "id": "V16RpE2RGp4s"
      },
      "source": [
        "import pandas as pd\n",
        "import csv\n",
        "import random\n",
        "file = pd.read_csv('DSSV.csv')\n",
        "print(file.head(10))\n",
        "print(\"-\"*50)\n",
        "#Chọn ngẫu nhiên 7 sv trong ds\n",
        "files = file.sample(n=7)\n",
        "#Lưu vào file csv mới tên DSSVmoi.csv\n",
        "files.to_csv(r'DSSV', index = None, header=True)\n",
        "print(files)"
      ],
      "execution_count": null,
      "outputs": []
    }
  ]
}