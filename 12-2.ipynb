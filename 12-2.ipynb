{
  "nbformat": 4,
  "nbformat_minor": 0,
  "metadata": {
    "colab": {
      "name": "Untitled6.ipynb",
      "provenance": [],
      "authorship_tag": "ABX9TyPps/jXAwhpoAdUquq/Gu/b",
      "include_colab_link": true
    },
    "kernelspec": {
      "name": "python3",
      "display_name": "Python 3"
    }
  },
  "cells": [
    {
      "cell_type": "markdown",
      "metadata": {
        "id": "view-in-github",
        "colab_type": "text"
      },
      "source": [
        "<a href=\"https://colab.research.google.com/github/Klatane/Github/blob/master/12-2.ipynb\" target=\"_parent\"><img src=\"https://colab.research.google.com/assets/colab-badge.svg\" alt=\"Open In Colab\"/></a>"
      ]
    },
    {
      "cell_type": "code",
      "metadata": {
        "colab": {
          "base_uri": "https://localhost:8080/"
        },
        "id": "uGZmcQThetUF",
        "outputId": "f43c496f-a203-44d8-a1db-d7fb5d3ed60e"
      },
      "source": [
        "minh={}\r\n",
        "import random, string\r\n",
        "#start\r\n",
        "m=random.randint(1,30)\r\n",
        "for i in range(m):\r\n",
        "    n = random.randint(1,12)\r\n",
        "    ten = random.choice(string.ascii_letters)\r\n",
        "    for i in range(n):\r\n",
        "        ten += random.choice(string.ascii_lowercase)\r\n",
        "        ten=str.capitalize (ten)\r\n",
        "    age = random.randint(0, 125)\r\n",
        "    minh[ten]=str(age)\r\n",
        "    #output\r\n",
        "print('Dictionary vừa tạo:',minh)\r\n"
      ],
      "execution_count": 1,
      "outputs": [
        {
          "output_type": "stream",
          "text": [
            "Dictionary vừa tạo: {'Gswezc': '62', 'Nly': '74', 'Mpoqurkbrnnbc': '65', 'Ibrgc': '47', 'Atni': '28', 'Doksgtn': '125', 'Qlhomrtmpxbrb': '123', 'Yf': '24', 'Cight': '96', 'Iysp': '50', 'Krebetqtxj': '71', 'Xtsffhi': '28'}\n"
          ],
          "name": "stdout"
        }
      ]
    }
  ]
}