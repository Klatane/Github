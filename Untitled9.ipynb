{
  "nbformat": 4,
  "nbformat_minor": 0,
  "metadata": {
    "colab": {
      "name": "Untitled9.ipynb",
      "provenance": [],
      "authorship_tag": "ABX9TyMbZ8mMHa+viwv0BPgxCYxh",
      "include_colab_link": true
    },
    "kernelspec": {
      "name": "python3",
      "display_name": "Python 3"
    }
  },
  "cells": [
    {
      "cell_type": "markdown",
      "metadata": {
        "id": "view-in-github",
        "colab_type": "text"
      },
      "source": [
        "<a href=\"https://colab.research.google.com/github/Klatane/Github/blob/master/Untitled9.ipynb\" target=\"_parent\"><img src=\"https://colab.research.google.com/assets/colab-badge.svg\" alt=\"Open In Colab\"/></a>"
      ]
    },
    {
      "cell_type": "code",
      "metadata": {
        "id": "S-r2xBZblJ8j"
      },
      "source": [
        "\r\n",
        "import os,string,random\r\n",
        "capa = 1000\r\n",
        "limit = int(input(\"nhap gioi han du lieu 1-1024mb: \"))\r\n",
        "if limit >= 1 and limit <= 1024:\r\n",
        " for i in range(int(limit * 1024 / capa)):\r\n",
        "    file = open('file' + str(i + 1) + '.txt', 'w')\r\n",
        "    file.write(random.choice(string.ascii_letters))\r\n",
        " if int(limit* 1024 % capa) >0 :\r\n",
        "    file = open('file end ' + '.txt', 'w')\r\n",
        "    file.write(random.choice(string.ascii_letters))\r\n",
        " if file.seek(0):\r\n",
        "    os.remove(file)\r\n",
        " file.close()\r\n",
        " print(\"done\")\r\n",
        "else:\r\n",
        "    print(\"gioi han sai\")\r\n"
      ],
      "execution_count": null,
      "outputs": []
    }
  ]
}