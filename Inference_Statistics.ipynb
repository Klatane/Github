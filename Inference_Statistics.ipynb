{
  "nbformat": 4,
  "nbformat_minor": 0,
  "metadata": {
    "colab": {
      "name": "Untitled31.ipynb",
      "provenance": [],
      "authorship_tag": "ABX9TyOwAaP4DMQgI23FmwKnLaTE",
      "include_colab_link": true
    },
    "kernelspec": {
      "name": "python3",
      "display_name": "Python 3"
    },
    "language_info": {
      "name": "python"
    }
  },
  "cells": [
    {
      "cell_type": "markdown",
      "metadata": {
        "id": "view-in-github",
        "colab_type": "text"
      },
      "source": [
        "<a href=\"https://colab.research.google.com/github/Klatane/Github/blob/master/Inference_Statistics.ipynb\" target=\"_parent\"><img src=\"https://colab.research.google.com/assets/colab-badge.svg\" alt=\"Open In Colab\"/></a>"
      ]
    },
    {
      "cell_type": "code",
      "metadata": {
        "id": "nG9YR7BDsSiG",
        "outputId": "e8355c11-ece1-45ee-a1a6-d456bc631628",
        "colab": {
          "base_uri": "https://localhost:8080/"
        }
      },
      "source": [
        "import numpy as np\n",
        "import pandas as pd\n",
        "import matplotlib.pyplot as plt \n",
        "import seaborn as sns\n",
        "import statsmodels\n",
        "import statsmodels.api as sm\n",
        "from statsmodels.formula.api import ols\n",
        "import scipy  \n",
        "from scipy import stats"
      ],
      "execution_count": 2,
      "outputs": [
        {
          "output_type": "stream",
          "text": [
            "/usr/local/lib/python3.7/dist-packages/statsmodels/tools/_testing.py:19: FutureWarning: pandas.util.testing is deprecated. Use the functions in the public API at pandas.testing instead.\n",
            "  import pandas.util.testing as tm\n"
          ],
          "name": "stderr"
        }
      ]
    },
    {
      "cell_type": "code",
      "metadata": {
        "colab": {
          "base_uri": "https://localhost:8080/",
          "height": 417
        },
        "id": "WgYqNFqVsS8S",
        "outputId": "531e3500-fe89-4713-a430-04c2b41c6ae2"
      },
      "source": [
        "data = pd.read_csv(\"Diet_R.csv\")\n",
        "data"
      ],
      "execution_count": 3,
      "outputs": [
        {
          "output_type": "execute_result",
          "data": {
            "text/html": [
              "<div>\n",
              "<style scoped>\n",
              "    .dataframe tbody tr th:only-of-type {\n",
              "        vertical-align: middle;\n",
              "    }\n",
              "\n",
              "    .dataframe tbody tr th {\n",
              "        vertical-align: top;\n",
              "    }\n",
              "\n",
              "    .dataframe thead th {\n",
              "        text-align: right;\n",
              "    }\n",
              "</style>\n",
              "<table border=\"1\" class=\"dataframe\">\n",
              "  <thead>\n",
              "    <tr style=\"text-align: right;\">\n",
              "      <th></th>\n",
              "      <th>Person</th>\n",
              "      <th>gender</th>\n",
              "      <th>Age</th>\n",
              "      <th>Height</th>\n",
              "      <th>pre.weight</th>\n",
              "      <th>Diet</th>\n",
              "      <th>weight6weeks</th>\n",
              "    </tr>\n",
              "  </thead>\n",
              "  <tbody>\n",
              "    <tr>\n",
              "      <th>0</th>\n",
              "      <td>25</td>\n",
              "      <td></td>\n",
              "      <td>41</td>\n",
              "      <td>171</td>\n",
              "      <td>60</td>\n",
              "      <td>2</td>\n",
              "      <td>60.0</td>\n",
              "    </tr>\n",
              "    <tr>\n",
              "      <th>1</th>\n",
              "      <td>26</td>\n",
              "      <td></td>\n",
              "      <td>32</td>\n",
              "      <td>174</td>\n",
              "      <td>103</td>\n",
              "      <td>2</td>\n",
              "      <td>103.0</td>\n",
              "    </tr>\n",
              "    <tr>\n",
              "      <th>2</th>\n",
              "      <td>1</td>\n",
              "      <td>0</td>\n",
              "      <td>22</td>\n",
              "      <td>159</td>\n",
              "      <td>58</td>\n",
              "      <td>1</td>\n",
              "      <td>54.2</td>\n",
              "    </tr>\n",
              "    <tr>\n",
              "      <th>3</th>\n",
              "      <td>2</td>\n",
              "      <td>0</td>\n",
              "      <td>46</td>\n",
              "      <td>192</td>\n",
              "      <td>60</td>\n",
              "      <td>1</td>\n",
              "      <td>54.0</td>\n",
              "    </tr>\n",
              "    <tr>\n",
              "      <th>4</th>\n",
              "      <td>3</td>\n",
              "      <td>0</td>\n",
              "      <td>55</td>\n",
              "      <td>170</td>\n",
              "      <td>64</td>\n",
              "      <td>1</td>\n",
              "      <td>63.3</td>\n",
              "    </tr>\n",
              "    <tr>\n",
              "      <th>...</th>\n",
              "      <td>...</td>\n",
              "      <td>...</td>\n",
              "      <td>...</td>\n",
              "      <td>...</td>\n",
              "      <td>...</td>\n",
              "      <td>...</td>\n",
              "      <td>...</td>\n",
              "    </tr>\n",
              "    <tr>\n",
              "      <th>73</th>\n",
              "      <td>74</td>\n",
              "      <td>1</td>\n",
              "      <td>35</td>\n",
              "      <td>183</td>\n",
              "      <td>83</td>\n",
              "      <td>3</td>\n",
              "      <td>80.2</td>\n",
              "    </tr>\n",
              "    <tr>\n",
              "      <th>74</th>\n",
              "      <td>75</td>\n",
              "      <td>1</td>\n",
              "      <td>49</td>\n",
              "      <td>177</td>\n",
              "      <td>84</td>\n",
              "      <td>3</td>\n",
              "      <td>79.9</td>\n",
              "    </tr>\n",
              "    <tr>\n",
              "      <th>75</th>\n",
              "      <td>76</td>\n",
              "      <td>1</td>\n",
              "      <td>28</td>\n",
              "      <td>164</td>\n",
              "      <td>85</td>\n",
              "      <td>3</td>\n",
              "      <td>79.7</td>\n",
              "    </tr>\n",
              "    <tr>\n",
              "      <th>76</th>\n",
              "      <td>77</td>\n",
              "      <td>1</td>\n",
              "      <td>40</td>\n",
              "      <td>167</td>\n",
              "      <td>87</td>\n",
              "      <td>3</td>\n",
              "      <td>77.8</td>\n",
              "    </tr>\n",
              "    <tr>\n",
              "      <th>77</th>\n",
              "      <td>78</td>\n",
              "      <td>1</td>\n",
              "      <td>51</td>\n",
              "      <td>175</td>\n",
              "      <td>88</td>\n",
              "      <td>3</td>\n",
              "      <td>81.9</td>\n",
              "    </tr>\n",
              "  </tbody>\n",
              "</table>\n",
              "<p>78 rows × 7 columns</p>\n",
              "</div>"
            ],
            "text/plain": [
              "    Person gender  Age  Height  pre.weight  Diet  weight6weeks\n",
              "0       25          41     171          60     2          60.0\n",
              "1       26          32     174         103     2         103.0\n",
              "2        1      0   22     159          58     1          54.2\n",
              "3        2      0   46     192          60     1          54.0\n",
              "4        3      0   55     170          64     1          63.3\n",
              "..     ...    ...  ...     ...         ...   ...           ...\n",
              "73      74      1   35     183          83     3          80.2\n",
              "74      75      1   49     177          84     3          79.9\n",
              "75      76      1   28     164          85     3          79.7\n",
              "76      77      1   40     167          87     3          77.8\n",
              "77      78      1   51     175          88     3          81.9\n",
              "\n",
              "[78 rows x 7 columns]"
            ]
          },
          "metadata": {
            "tags": []
          },
          "execution_count": 3
        }
      ]
    },
    {
      "cell_type": "code",
      "metadata": {
        "colab": {
          "base_uri": "https://localhost:8080/"
        },
        "id": "D77hi1icsS-x",
        "outputId": "cf9d1130-c471-4294-bff0-1a27a1a72168"
      },
      "source": [
        "data.info()"
      ],
      "execution_count": 4,
      "outputs": [
        {
          "output_type": "stream",
          "text": [
            "<class 'pandas.core.frame.DataFrame'>\n",
            "RangeIndex: 78 entries, 0 to 77\n",
            "Data columns (total 7 columns):\n",
            " #   Column        Non-Null Count  Dtype  \n",
            "---  ------        --------------  -----  \n",
            " 0   Person        78 non-null     int64  \n",
            " 1   gender        78 non-null     object \n",
            " 2   Age           78 non-null     int64  \n",
            " 3   Height        78 non-null     int64  \n",
            " 4   pre.weight    78 non-null     int64  \n",
            " 5   Diet          78 non-null     int64  \n",
            " 6   weight6weeks  78 non-null     float64\n",
            "dtypes: float64(1), int64(5), object(1)\n",
            "memory usage: 4.4+ KB\n"
          ],
          "name": "stdout"
        }
      ]
    },
    {
      "cell_type": "code",
      "metadata": {
        "colab": {
          "base_uri": "https://localhost:8080/",
          "height": 417
        },
        "id": "EHmHxaHksTBJ",
        "outputId": "c44a5214-a969-4dd4-9d8a-2c672820cfd6"
      },
      "source": [
        "rm = data.drop([0, 1])\n",
        "rm"
      ],
      "execution_count": 5,
      "outputs": [
        {
          "output_type": "execute_result",
          "data": {
            "text/html": [
              "<div>\n",
              "<style scoped>\n",
              "    .dataframe tbody tr th:only-of-type {\n",
              "        vertical-align: middle;\n",
              "    }\n",
              "\n",
              "    .dataframe tbody tr th {\n",
              "        vertical-align: top;\n",
              "    }\n",
              "\n",
              "    .dataframe thead th {\n",
              "        text-align: right;\n",
              "    }\n",
              "</style>\n",
              "<table border=\"1\" class=\"dataframe\">\n",
              "  <thead>\n",
              "    <tr style=\"text-align: right;\">\n",
              "      <th></th>\n",
              "      <th>Person</th>\n",
              "      <th>gender</th>\n",
              "      <th>Age</th>\n",
              "      <th>Height</th>\n",
              "      <th>pre.weight</th>\n",
              "      <th>Diet</th>\n",
              "      <th>weight6weeks</th>\n",
              "    </tr>\n",
              "  </thead>\n",
              "  <tbody>\n",
              "    <tr>\n",
              "      <th>2</th>\n",
              "      <td>1</td>\n",
              "      <td>0</td>\n",
              "      <td>22</td>\n",
              "      <td>159</td>\n",
              "      <td>58</td>\n",
              "      <td>1</td>\n",
              "      <td>54.2</td>\n",
              "    </tr>\n",
              "    <tr>\n",
              "      <th>3</th>\n",
              "      <td>2</td>\n",
              "      <td>0</td>\n",
              "      <td>46</td>\n",
              "      <td>192</td>\n",
              "      <td>60</td>\n",
              "      <td>1</td>\n",
              "      <td>54.0</td>\n",
              "    </tr>\n",
              "    <tr>\n",
              "      <th>4</th>\n",
              "      <td>3</td>\n",
              "      <td>0</td>\n",
              "      <td>55</td>\n",
              "      <td>170</td>\n",
              "      <td>64</td>\n",
              "      <td>1</td>\n",
              "      <td>63.3</td>\n",
              "    </tr>\n",
              "    <tr>\n",
              "      <th>5</th>\n",
              "      <td>4</td>\n",
              "      <td>0</td>\n",
              "      <td>33</td>\n",
              "      <td>171</td>\n",
              "      <td>64</td>\n",
              "      <td>1</td>\n",
              "      <td>61.1</td>\n",
              "    </tr>\n",
              "    <tr>\n",
              "      <th>6</th>\n",
              "      <td>5</td>\n",
              "      <td>0</td>\n",
              "      <td>50</td>\n",
              "      <td>170</td>\n",
              "      <td>65</td>\n",
              "      <td>1</td>\n",
              "      <td>62.2</td>\n",
              "    </tr>\n",
              "    <tr>\n",
              "      <th>...</th>\n",
              "      <td>...</td>\n",
              "      <td>...</td>\n",
              "      <td>...</td>\n",
              "      <td>...</td>\n",
              "      <td>...</td>\n",
              "      <td>...</td>\n",
              "      <td>...</td>\n",
              "    </tr>\n",
              "    <tr>\n",
              "      <th>73</th>\n",
              "      <td>74</td>\n",
              "      <td>1</td>\n",
              "      <td>35</td>\n",
              "      <td>183</td>\n",
              "      <td>83</td>\n",
              "      <td>3</td>\n",
              "      <td>80.2</td>\n",
              "    </tr>\n",
              "    <tr>\n",
              "      <th>74</th>\n",
              "      <td>75</td>\n",
              "      <td>1</td>\n",
              "      <td>49</td>\n",
              "      <td>177</td>\n",
              "      <td>84</td>\n",
              "      <td>3</td>\n",
              "      <td>79.9</td>\n",
              "    </tr>\n",
              "    <tr>\n",
              "      <th>75</th>\n",
              "      <td>76</td>\n",
              "      <td>1</td>\n",
              "      <td>28</td>\n",
              "      <td>164</td>\n",
              "      <td>85</td>\n",
              "      <td>3</td>\n",
              "      <td>79.7</td>\n",
              "    </tr>\n",
              "    <tr>\n",
              "      <th>76</th>\n",
              "      <td>77</td>\n",
              "      <td>1</td>\n",
              "      <td>40</td>\n",
              "      <td>167</td>\n",
              "      <td>87</td>\n",
              "      <td>3</td>\n",
              "      <td>77.8</td>\n",
              "    </tr>\n",
              "    <tr>\n",
              "      <th>77</th>\n",
              "      <td>78</td>\n",
              "      <td>1</td>\n",
              "      <td>51</td>\n",
              "      <td>175</td>\n",
              "      <td>88</td>\n",
              "      <td>3</td>\n",
              "      <td>81.9</td>\n",
              "    </tr>\n",
              "  </tbody>\n",
              "</table>\n",
              "<p>76 rows × 7 columns</p>\n",
              "</div>"
            ],
            "text/plain": [
              "    Person gender  Age  Height  pre.weight  Diet  weight6weeks\n",
              "2        1      0   22     159          58     1          54.2\n",
              "3        2      0   46     192          60     1          54.0\n",
              "4        3      0   55     170          64     1          63.3\n",
              "5        4      0   33     171          64     1          61.1\n",
              "6        5      0   50     170          65     1          62.2\n",
              "..     ...    ...  ...     ...         ...   ...           ...\n",
              "73      74      1   35     183          83     3          80.2\n",
              "74      75      1   49     177          84     3          79.9\n",
              "75      76      1   28     164          85     3          79.7\n",
              "76      77      1   40     167          87     3          77.8\n",
              "77      78      1   51     175          88     3          81.9\n",
              "\n",
              "[76 rows x 7 columns]"
            ]
          },
          "metadata": {
            "tags": []
          },
          "execution_count": 5
        }
      ]
    },
    {
      "cell_type": "code",
      "metadata": {
        "colab": {
          "base_uri": "https://localhost:8080/",
          "height": 447
        },
        "id": "RyXagE1hsTF5",
        "outputId": "2fbb2a42-0b42-4be4-93b2-9c9c0a817091"
      },
      "source": [
        "t = rm.set_index('Person')\n",
        "data_new = t.sort_index()\n",
        "data_new"
      ],
      "execution_count": 6,
      "outputs": [
        {
          "output_type": "execute_result",
          "data": {
            "text/html": [
              "<div>\n",
              "<style scoped>\n",
              "    .dataframe tbody tr th:only-of-type {\n",
              "        vertical-align: middle;\n",
              "    }\n",
              "\n",
              "    .dataframe tbody tr th {\n",
              "        vertical-align: top;\n",
              "    }\n",
              "\n",
              "    .dataframe thead th {\n",
              "        text-align: right;\n",
              "    }\n",
              "</style>\n",
              "<table border=\"1\" class=\"dataframe\">\n",
              "  <thead>\n",
              "    <tr style=\"text-align: right;\">\n",
              "      <th></th>\n",
              "      <th>gender</th>\n",
              "      <th>Age</th>\n",
              "      <th>Height</th>\n",
              "      <th>pre.weight</th>\n",
              "      <th>Diet</th>\n",
              "      <th>weight6weeks</th>\n",
              "    </tr>\n",
              "    <tr>\n",
              "      <th>Person</th>\n",
              "      <th></th>\n",
              "      <th></th>\n",
              "      <th></th>\n",
              "      <th></th>\n",
              "      <th></th>\n",
              "      <th></th>\n",
              "    </tr>\n",
              "  </thead>\n",
              "  <tbody>\n",
              "    <tr>\n",
              "      <th>1</th>\n",
              "      <td>0</td>\n",
              "      <td>22</td>\n",
              "      <td>159</td>\n",
              "      <td>58</td>\n",
              "      <td>1</td>\n",
              "      <td>54.2</td>\n",
              "    </tr>\n",
              "    <tr>\n",
              "      <th>2</th>\n",
              "      <td>0</td>\n",
              "      <td>46</td>\n",
              "      <td>192</td>\n",
              "      <td>60</td>\n",
              "      <td>1</td>\n",
              "      <td>54.0</td>\n",
              "    </tr>\n",
              "    <tr>\n",
              "      <th>3</th>\n",
              "      <td>0</td>\n",
              "      <td>55</td>\n",
              "      <td>170</td>\n",
              "      <td>64</td>\n",
              "      <td>1</td>\n",
              "      <td>63.3</td>\n",
              "    </tr>\n",
              "    <tr>\n",
              "      <th>4</th>\n",
              "      <td>0</td>\n",
              "      <td>33</td>\n",
              "      <td>171</td>\n",
              "      <td>64</td>\n",
              "      <td>1</td>\n",
              "      <td>61.1</td>\n",
              "    </tr>\n",
              "    <tr>\n",
              "      <th>5</th>\n",
              "      <td>0</td>\n",
              "      <td>50</td>\n",
              "      <td>170</td>\n",
              "      <td>65</td>\n",
              "      <td>1</td>\n",
              "      <td>62.2</td>\n",
              "    </tr>\n",
              "    <tr>\n",
              "      <th>...</th>\n",
              "      <td>...</td>\n",
              "      <td>...</td>\n",
              "      <td>...</td>\n",
              "      <td>...</td>\n",
              "      <td>...</td>\n",
              "      <td>...</td>\n",
              "    </tr>\n",
              "    <tr>\n",
              "      <th>74</th>\n",
              "      <td>1</td>\n",
              "      <td>35</td>\n",
              "      <td>183</td>\n",
              "      <td>83</td>\n",
              "      <td>3</td>\n",
              "      <td>80.2</td>\n",
              "    </tr>\n",
              "    <tr>\n",
              "      <th>75</th>\n",
              "      <td>1</td>\n",
              "      <td>49</td>\n",
              "      <td>177</td>\n",
              "      <td>84</td>\n",
              "      <td>3</td>\n",
              "      <td>79.9</td>\n",
              "    </tr>\n",
              "    <tr>\n",
              "      <th>76</th>\n",
              "      <td>1</td>\n",
              "      <td>28</td>\n",
              "      <td>164</td>\n",
              "      <td>85</td>\n",
              "      <td>3</td>\n",
              "      <td>79.7</td>\n",
              "    </tr>\n",
              "    <tr>\n",
              "      <th>77</th>\n",
              "      <td>1</td>\n",
              "      <td>40</td>\n",
              "      <td>167</td>\n",
              "      <td>87</td>\n",
              "      <td>3</td>\n",
              "      <td>77.8</td>\n",
              "    </tr>\n",
              "    <tr>\n",
              "      <th>78</th>\n",
              "      <td>1</td>\n",
              "      <td>51</td>\n",
              "      <td>175</td>\n",
              "      <td>88</td>\n",
              "      <td>3</td>\n",
              "      <td>81.9</td>\n",
              "    </tr>\n",
              "  </tbody>\n",
              "</table>\n",
              "<p>76 rows × 6 columns</p>\n",
              "</div>"
            ],
            "text/plain": [
              "       gender  Age  Height  pre.weight  Diet  weight6weeks\n",
              "Person                                                    \n",
              "1           0   22     159          58     1          54.2\n",
              "2           0   46     192          60     1          54.0\n",
              "3           0   55     170          64     1          63.3\n",
              "4           0   33     171          64     1          61.1\n",
              "5           0   50     170          65     1          62.2\n",
              "...       ...  ...     ...         ...   ...           ...\n",
              "74          1   35     183          83     3          80.2\n",
              "75          1   49     177          84     3          79.9\n",
              "76          1   28     164          85     3          79.7\n",
              "77          1   40     167          87     3          77.8\n",
              "78          1   51     175          88     3          81.9\n",
              "\n",
              "[76 rows x 6 columns]"
            ]
          },
          "metadata": {
            "tags": []
          },
          "execution_count": 6
        }
      ]
    },
    {
      "cell_type": "code",
      "metadata": {
        "id": "BcjKuXu2kBDb"
      },
      "source": [
        "Task 1: Ignore diet and test to see if weight has been lost"
      ],
      "execution_count": null,
      "outputs": []
    },
    {
      "cell_type": "markdown",
      "metadata": {
        "id": "WbJJm8qqkGMu"
      },
      "source": [
        "Phát biểu giả thiết\n",
        "$H_0: \\mu_0 = \\mu_1$. Cân nặng trung bình của trước và sau khi giảm cân là như nhau\n",
        "\n",
        "$H_1: \\mu_0 \\neq \\mu_1$. Cân nặng trung bình của trước và sau khi giảm cân khác nhau"
      ]
    },
    {
      "cell_type": "code",
      "metadata": {
        "id": "M3WJf3PGkA_u"
      },
      "source": [
        "pre_w = data_new['pre.weight']\n",
        "aft_w = data_new['weight6weeks']"
      ],
      "execution_count": 8,
      "outputs": []
    },
    {
      "cell_type": "code",
      "metadata": {
        "id": "XpzXN4dLkI-1",
        "outputId": "55df1b45-d671-4c39-80cb-8c8b7db464d8",
        "colab": {
          "base_uri": "https://localhost:8080/"
        }
      },
      "source": [
        "std1, p1 = scipy.stats.ttest_ind(pre_w, aft_w)\n",
        "print(std1, p1)\n",
        "print(\"-\"*50)\n",
        "alpha = 0.05\n",
        "if p1 < alpha:\n",
        "    print('Có đủ bằng chứng để bác bỏ giả thuyết H0. Điều này ngụ ý rằng cân nặng trước và sau khi giảm cân là có sự khác biệt.')\n",
        "else:\n",
        "    print('Không đủ bằng chứng để bác bỏ giả thiết H0. Điều này ngụ ý rằng cân nặng trước và sau khi giảm cân không có sự khác biệt')"
      ],
      "execution_count": 9,
      "outputs": [
        {
          "output_type": "stream",
          "text": [
            "3.0342255247628476 0.0028431949414180584\n",
            "--------------------------------------------------\n",
            "Có đủ bằng chứng để bác bỏ giả thuyết H0. Điều này ngụ ý rằng cân nặng trước và sau khi giảm cân là có sự khác biệt.\n"
          ],
          "name": "stdout"
        }
      ]
    },
    {
      "cell_type": "code",
      "metadata": {
        "id": "Cm4-FmRWkI1p",
        "outputId": "f5ce9adf-d5c9-43a3-b31b-31596ab46417",
        "colab": {
          "base_uri": "https://localhost:8080/",
          "height": 416
        }
      },
      "source": [
        "\n",
        "# Biểu đồ cân nặng trước và sau khi giảm cân\n",
        "\n",
        "plt.figure(figsize=(6, 8))\n",
        "plt.style.use('seaborn')\n",
        "data_new[['pre.weight', 'weight6weeks']].plot(color= ['orange', 'c'])\n",
        "plt.title('Weight before and after diet', fontsize=20)"
      ],
      "execution_count": 10,
      "outputs": [
        {
          "output_type": "execute_result",
          "data": {
            "text/plain": [
              "Text(0.5, 1.0, 'Weight before and after diet')"
            ]
          },
          "metadata": {
            "tags": []
          },
          "execution_count": 10
        },
        {
          "output_type": "display_data",
          "data": {
            "text/plain": [
              "<Figure size 432x576 with 0 Axes>"
            ]
          },
          "metadata": {
            "tags": []
          }
        },
        {
          "output_type": "display_data",
          "data": {
            "image/png": "[encoded data removed]",
            "text/plain": [
              "<Figure size 576x396 with 1 Axes>"
            ]
          },
          "metadata": {
            "tags": []
          }
        }
      ]
    },
    {
      "cell_type": "code",
      "metadata": {
        "id": "mK-UC6_1kIr2"
      },
      "source": [
        ""
      ],
      "execution_count": null,
      "outputs": []
    },
    {
      "cell_type": "markdown",
      "metadata": {
        "id": "lzoP5DFjkAoX"
      },
      "source": [
        ""
      ]
    },
    {
      "cell_type": "markdown",
      "metadata": {
        "id": "Hjx4Xu0dPhID"
      },
      "source": [
        "Task 2 : Remove weight lost and get students to calculate it using before/after weights"
      ]
    },
    {
      "cell_type": "code",
      "metadata": {
        "colab": {
          "base_uri": "https://localhost:8080/"
        },
        "id": "80uHbUCIsTIx",
        "outputId": "d4e9635b-3d04-45b3-a655-7b8f3dcbcc3e"
      },
      "source": [
        "weightLOST = data_new['pre.weight'] - data_new['weight6weeks']\n",
        "weightLOST"
      ],
      "execution_count": null,
      "outputs": [
        {
          "output_type": "execute_result",
          "data": {
            "text/plain": [
              "Person\n",
              "1     3.8\n",
              "2     6.0\n",
              "3     0.7\n",
              "4     2.9\n",
              "5     2.8\n",
              "     ... \n",
              "74    2.8\n",
              "75    4.1\n",
              "76    5.3\n",
              "77    9.2\n",
              "78    6.1\n",
              "Length: 76, dtype: float64"
            ]
          },
          "metadata": {
            "tags": []
          },
          "execution_count": 6
        }
      ]
    },
    {
      "cell_type": "code",
      "metadata": {
        "colab": {
          "base_uri": "https://localhost:8080/",
          "height": 447
        },
        "id": "0PY0yrV7tV1K",
        "outputId": "44914a13-80bf-4768-a3fa-5e8f3014cbf8"
      },
      "source": [
        "# Thêm cột dữ liệu weightLOST vào data_new\n",
        "\n",
        "pop = data_new.pop('pre.weight')\n",
        "data_new.insert(4, \"pre.weight\", pop)\n",
        "data_new.insert(6, 'weightLOST', weightLOST) \n",
        "data_new"
      ],
      "execution_count": null,
      "outputs": [
        {
          "output_type": "execute_result",
          "data": {
            "text/html": [
              "<div>\n",
              "<style scoped>\n",
              "    .dataframe tbody tr th:only-of-type {\n",
              "        vertical-align: middle;\n",
              "    }\n",
              "\n",
              "    .dataframe tbody tr th {\n",
              "        vertical-align: top;\n",
              "    }\n",
              "\n",
              "    .dataframe thead th {\n",
              "        text-align: right;\n",
              "    }\n",
              "</style>\n",
              "<table border=\"1\" class=\"dataframe\">\n",
              "  <thead>\n",
              "    <tr style=\"text-align: right;\">\n",
              "      <th></th>\n",
              "      <th>gender</th>\n",
              "      <th>Age</th>\n",
              "      <th>Height</th>\n",
              "      <th>Diet</th>\n",
              "      <th>pre.weight</th>\n",
              "      <th>weight6weeks</th>\n",
              "      <th>weightLOST</th>\n",
              "    </tr>\n",
              "    <tr>\n",
              "      <th>Person</th>\n",
              "      <th></th>\n",
              "      <th></th>\n",
              "      <th></th>\n",
              "      <th></th>\n",
              "      <th></th>\n",
              "      <th></th>\n",
              "      <th></th>\n",
              "    </tr>\n",
              "  </thead>\n",
              "  <tbody>\n",
              "    <tr>\n",
              "      <th>1</th>\n",
              "      <td>0</td>\n",
              "      <td>22</td>\n",
              "      <td>159</td>\n",
              "      <td>1</td>\n",
              "      <td>58</td>\n",
              "      <td>54.2</td>\n",
              "      <td>3.8</td>\n",
              "    </tr>\n",
              "    <tr>\n",
              "      <th>2</th>\n",
              "      <td>0</td>\n",
              "      <td>46</td>\n",
              "      <td>192</td>\n",
              "      <td>1</td>\n",
              "      <td>60</td>\n",
              "      <td>54.0</td>\n",
              "      <td>6.0</td>\n",
              "    </tr>\n",
              "    <tr>\n",
              "      <th>3</th>\n",
              "      <td>0</td>\n",
              "      <td>55</td>\n",
              "      <td>170</td>\n",
              "      <td>1</td>\n",
              "      <td>64</td>\n",
              "      <td>63.3</td>\n",
              "      <td>0.7</td>\n",
              "    </tr>\n",
              "    <tr>\n",
              "      <th>4</th>\n",
              "      <td>0</td>\n",
              "      <td>33</td>\n",
              "      <td>171</td>\n",
              "      <td>1</td>\n",
              "      <td>64</td>\n",
              "      <td>61.1</td>\n",
              "      <td>2.9</td>\n",
              "    </tr>\n",
              "    <tr>\n",
              "      <th>5</th>\n",
              "      <td>0</td>\n",
              "      <td>50</td>\n",
              "      <td>170</td>\n",
              "      <td>1</td>\n",
              "      <td>65</td>\n",
              "      <td>62.2</td>\n",
              "      <td>2.8</td>\n",
              "    </tr>\n",
              "    <tr>\n",
              "      <th>...</th>\n",
              "      <td>...</td>\n",
              "      <td>...</td>\n",
              "      <td>...</td>\n",
              "      <td>...</td>\n",
              "      <td>...</td>\n",
              "      <td>...</td>\n",
              "      <td>...</td>\n",
              "    </tr>\n",
              "    <tr>\n",
              "      <th>74</th>\n",
              "      <td>1</td>\n",
              "      <td>35</td>\n",
              "      <td>183</td>\n",
              "      <td>3</td>\n",
              "      <td>83</td>\n",
              "      <td>80.2</td>\n",
              "      <td>2.8</td>\n",
              "    </tr>\n",
              "    <tr>\n",
              "      <th>75</th>\n",
              "      <td>1</td>\n",
              "      <td>49</td>\n",
              "      <td>177</td>\n",
              "      <td>3</td>\n",
              "      <td>84</td>\n",
              "      <td>79.9</td>\n",
              "      <td>4.1</td>\n",
              "    </tr>\n",
              "    <tr>\n",
              "      <th>76</th>\n",
              "      <td>1</td>\n",
              "      <td>28</td>\n",
              "      <td>164</td>\n",
              "      <td>3</td>\n",
              "      <td>85</td>\n",
              "      <td>79.7</td>\n",
              "      <td>5.3</td>\n",
              "    </tr>\n",
              "    <tr>\n",
              "      <th>77</th>\n",
              "      <td>1</td>\n",
              "      <td>40</td>\n",
              "      <td>167</td>\n",
              "      <td>3</td>\n",
              "      <td>87</td>\n",
              "      <td>77.8</td>\n",
              "      <td>9.2</td>\n",
              "    </tr>\n",
              "    <tr>\n",
              "      <th>78</th>\n",
              "      <td>1</td>\n",
              "      <td>51</td>\n",
              "      <td>175</td>\n",
              "      <td>3</td>\n",
              "      <td>88</td>\n",
              "      <td>81.9</td>\n",
              "      <td>6.1</td>\n",
              "    </tr>\n",
              "  </tbody>\n",
              "</table>\n",
              "<p>76 rows × 7 columns</p>\n",
              "</div>"
            ],
            "text/plain": [
              "       gender  Age  Height  Diet  pre.weight  weight6weeks  weightLOST\n",
              "Person                                                                \n",
              "1           0   22     159     1          58          54.2         3.8\n",
              "2           0   46     192     1          60          54.0         6.0\n",
              "3           0   55     170     1          64          63.3         0.7\n",
              "4           0   33     171     1          64          61.1         2.9\n",
              "5           0   50     170     1          65          62.2         2.8\n",
              "...       ...  ...     ...   ...         ...           ...         ...\n",
              "74          1   35     183     3          83          80.2         2.8\n",
              "75          1   49     177     3          84          79.9         4.1\n",
              "76          1   28     164     3          85          79.7         5.3\n",
              "77          1   40     167     3          87          77.8         9.2\n",
              "78          1   51     175     3          88          81.9         6.1\n",
              "\n",
              "[76 rows x 7 columns]"
            ]
          },
          "metadata": {
            "tags": []
          },
          "execution_count": 7
        }
      ]
    },
    {
      "cell_type": "code",
      "metadata": {
        "colab": {
          "base_uri": "https://localhost:8080/",
          "height": 447
        },
        "id": "L6mDhHlwtV4M",
        "outputId": "3e9274c3-7b73-46b4-fd8f-63f72b5976af"
      },
      "source": [
        "# Nếu weightLOST > 0 => giảm cân thành công\n",
        "# Nếu weightLOST = 0 => không có hiệu quả\n",
        "# Nếu weightLOST < 0 => phản tác dụng\n",
        "\n",
        "lost_weight_succ = data_new[data_new['weightLOST'] > 0]\n",
        "lost_weight_succ"
      ],
      "execution_count": null,
      "outputs": [
        {
          "output_type": "execute_result",
          "data": {
            "text/html": [
              "<div>\n",
              "<style scoped>\n",
              "    .dataframe tbody tr th:only-of-type {\n",
              "        vertical-align: middle;\n",
              "    }\n",
              "\n",
              "    .dataframe tbody tr th {\n",
              "        vertical-align: top;\n",
              "    }\n",
              "\n",
              "    .dataframe thead th {\n",
              "        text-align: right;\n",
              "    }\n",
              "</style>\n",
              "<table border=\"1\" class=\"dataframe\">\n",
              "  <thead>\n",
              "    <tr style=\"text-align: right;\">\n",
              "      <th></th>\n",
              "      <th>gender</th>\n",
              "      <th>Age</th>\n",
              "      <th>Height</th>\n",
              "      <th>Diet</th>\n",
              "      <th>pre.weight</th>\n",
              "      <th>weight6weeks</th>\n",
              "      <th>weightLOST</th>\n",
              "    </tr>\n",
              "    <tr>\n",
              "      <th>Person</th>\n",
              "      <th></th>\n",
              "      <th></th>\n",
              "      <th></th>\n",
              "      <th></th>\n",
              "      <th></th>\n",
              "      <th></th>\n",
              "      <th></th>\n",
              "    </tr>\n",
              "  </thead>\n",
              "  <tbody>\n",
              "    <tr>\n",
              "      <th>1</th>\n",
              "      <td>0</td>\n",
              "      <td>22</td>\n",
              "      <td>159</td>\n",
              "      <td>1</td>\n",
              "      <td>58</td>\n",
              "      <td>54.2</td>\n",
              "      <td>3.8</td>\n",
              "    </tr>\n",
              "    <tr>\n",
              "      <th>2</th>\n",
              "      <td>0</td>\n",
              "      <td>46</td>\n",
              "      <td>192</td>\n",
              "      <td>1</td>\n",
              "      <td>60</td>\n",
              "      <td>54.0</td>\n",
              "      <td>6.0</td>\n",
              "    </tr>\n",
              "    <tr>\n",
              "      <th>3</th>\n",
              "      <td>0</td>\n",
              "      <td>55</td>\n",
              "      <td>170</td>\n",
              "      <td>1</td>\n",
              "      <td>64</td>\n",
              "      <td>63.3</td>\n",
              "      <td>0.7</td>\n",
              "    </tr>\n",
              "    <tr>\n",
              "      <th>4</th>\n",
              "      <td>0</td>\n",
              "      <td>33</td>\n",
              "      <td>171</td>\n",
              "      <td>1</td>\n",
              "      <td>64</td>\n",
              "      <td>61.1</td>\n",
              "      <td>2.9</td>\n",
              "    </tr>\n",
              "    <tr>\n",
              "      <th>5</th>\n",
              "      <td>0</td>\n",
              "      <td>50</td>\n",
              "      <td>170</td>\n",
              "      <td>1</td>\n",
              "      <td>65</td>\n",
              "      <td>62.2</td>\n",
              "      <td>2.8</td>\n",
              "    </tr>\n",
              "    <tr>\n",
              "      <th>...</th>\n",
              "      <td>...</td>\n",
              "      <td>...</td>\n",
              "      <td>...</td>\n",
              "      <td>...</td>\n",
              "      <td>...</td>\n",
              "      <td>...</td>\n",
              "      <td>...</td>\n",
              "    </tr>\n",
              "    <tr>\n",
              "      <th>74</th>\n",
              "      <td>1</td>\n",
              "      <td>35</td>\n",
              "      <td>183</td>\n",
              "      <td>3</td>\n",
              "      <td>83</td>\n",
              "      <td>80.2</td>\n",
              "      <td>2.8</td>\n",
              "    </tr>\n",
              "    <tr>\n",
              "      <th>75</th>\n",
              "      <td>1</td>\n",
              "      <td>49</td>\n",
              "      <td>177</td>\n",
              "      <td>3</td>\n",
              "      <td>84</td>\n",
              "      <td>79.9</td>\n",
              "      <td>4.1</td>\n",
              "    </tr>\n",
              "    <tr>\n",
              "      <th>76</th>\n",
              "      <td>1</td>\n",
              "      <td>28</td>\n",
              "      <td>164</td>\n",
              "      <td>3</td>\n",
              "      <td>85</td>\n",
              "      <td>79.7</td>\n",
              "      <td>5.3</td>\n",
              "    </tr>\n",
              "    <tr>\n",
              "      <th>77</th>\n",
              "      <td>1</td>\n",
              "      <td>40</td>\n",
              "      <td>167</td>\n",
              "      <td>3</td>\n",
              "      <td>87</td>\n",
              "      <td>77.8</td>\n",
              "      <td>9.2</td>\n",
              "    </tr>\n",
              "    <tr>\n",
              "      <th>78</th>\n",
              "      <td>1</td>\n",
              "      <td>51</td>\n",
              "      <td>175</td>\n",
              "      <td>3</td>\n",
              "      <td>88</td>\n",
              "      <td>81.9</td>\n",
              "      <td>6.1</td>\n",
              "    </tr>\n",
              "  </tbody>\n",
              "</table>\n",
              "<p>72 rows × 7 columns</p>\n",
              "</div>"
            ],
            "text/plain": [
              "       gender  Age  Height  Diet  pre.weight  weight6weeks  weightLOST\n",
              "Person                                                                \n",
              "1           0   22     159     1          58          54.2         3.8\n",
              "2           0   46     192     1          60          54.0         6.0\n",
              "3           0   55     170     1          64          63.3         0.7\n",
              "4           0   33     171     1          64          61.1         2.9\n",
              "5           0   50     170     1          65          62.2         2.8\n",
              "...       ...  ...     ...   ...         ...           ...         ...\n",
              "74          1   35     183     3          83          80.2         2.8\n",
              "75          1   49     177     3          84          79.9         4.1\n",
              "76          1   28     164     3          85          79.7         5.3\n",
              "77          1   40     167     3          87          77.8         9.2\n",
              "78          1   51     175     3          88          81.9         6.1\n",
              "\n",
              "[72 rows x 7 columns]"
            ]
          },
          "metadata": {
            "tags": []
          },
          "execution_count": 8
        }
      ]
    },
    {
      "cell_type": "code",
      "metadata": {
        "colab": {
          "base_uri": "https://localhost:8080/",
          "height": 203
        },
        "id": "uD-WXnortV7T",
        "outputId": "37e28a2b-9b7c-4694-ffd2-16a81b76f709"
      },
      "source": [
        "lost_weight_fail = data_new[data_new['weightLOST'] < 0]\n",
        "lost_weight_fail"
      ],
      "execution_count": null,
      "outputs": [
        {
          "output_type": "execute_result",
          "data": {
            "text/html": [
              "<div>\n",
              "<style scoped>\n",
              "    .dataframe tbody tr th:only-of-type {\n",
              "        vertical-align: middle;\n",
              "    }\n",
              "\n",
              "    .dataframe tbody tr th {\n",
              "        vertical-align: top;\n",
              "    }\n",
              "\n",
              "    .dataframe thead th {\n",
              "        text-align: right;\n",
              "    }\n",
              "</style>\n",
              "<table border=\"1\" class=\"dataframe\">\n",
              "  <thead>\n",
              "    <tr style=\"text-align: right;\">\n",
              "      <th></th>\n",
              "      <th>gender</th>\n",
              "      <th>Age</th>\n",
              "      <th>Height</th>\n",
              "      <th>Diet</th>\n",
              "      <th>pre.weight</th>\n",
              "      <th>weight6weeks</th>\n",
              "      <th>weightLOST</th>\n",
              "    </tr>\n",
              "    <tr>\n",
              "      <th>Person</th>\n",
              "      <th></th>\n",
              "      <th></th>\n",
              "      <th></th>\n",
              "      <th></th>\n",
              "      <th></th>\n",
              "      <th></th>\n",
              "      <th></th>\n",
              "    </tr>\n",
              "  </thead>\n",
              "  <tbody>\n",
              "    <tr>\n",
              "      <th>15</th>\n",
              "      <td>1</td>\n",
              "      <td>39</td>\n",
              "      <td>168</td>\n",
              "      <td>1</td>\n",
              "      <td>71</td>\n",
              "      <td>71.6</td>\n",
              "      <td>-0.6</td>\n",
              "    </tr>\n",
              "    <tr>\n",
              "      <th>27</th>\n",
              "      <td>0</td>\n",
              "      <td>44</td>\n",
              "      <td>174</td>\n",
              "      <td>2</td>\n",
              "      <td>58</td>\n",
              "      <td>60.1</td>\n",
              "      <td>-2.1</td>\n",
              "    </tr>\n",
              "    <tr>\n",
              "      <th>40</th>\n",
              "      <td>0</td>\n",
              "      <td>29</td>\n",
              "      <td>169</td>\n",
              "      <td>2</td>\n",
              "      <td>77</td>\n",
              "      <td>77.5</td>\n",
              "      <td>-0.5</td>\n",
              "    </tr>\n",
              "    <tr>\n",
              "      <th>50</th>\n",
              "      <td>1</td>\n",
              "      <td>39</td>\n",
              "      <td>180</td>\n",
              "      <td>2</td>\n",
              "      <td>80</td>\n",
              "      <td>81.4</td>\n",
              "      <td>-1.4</td>\n",
              "    </tr>\n",
              "  </tbody>\n",
              "</table>\n",
              "</div>"
            ],
            "text/plain": [
              "       gender  Age  Height  Diet  pre.weight  weight6weeks  weightLOST\n",
              "Person                                                                \n",
              "15          1   39     168     1          71          71.6        -0.6\n",
              "27          0   44     174     2          58          60.1        -2.1\n",
              "40          0   29     169     2          77          77.5        -0.5\n",
              "50          1   39     180     2          80          81.4        -1.4"
            ]
          },
          "metadata": {
            "tags": []
          },
          "execution_count": 9
        }
      ]
    },
    {
      "cell_type": "markdown",
      "metadata": {
        "id": "1jvJApevPpJ9"
      },
      "source": [
        "\n",
        "Nhận xét:\n",
        "Có 72/76 trường hợp thực hiện giảm cân hiệu quả\n",
        "Có 4/76 trường hợp thực hiện giảm cân bị phản tác dụng tức là tăng cân\n",
        "Phát biểu giả thiết\n",
        "\n",
        "$H_0: \\mu_0 = \\mu_1$. Cân nặng trung bình của trước và sau khi giảm cân là như nhau\n",
        "\n",
        "$H_1: \\mu_0 \\neq \\mu_1$. Cân nặng trung bình của trước và sau khi giảm cân khác nhau"
      ]
    },
    {
      "cell_type": "code",
      "metadata": {
        "id": "Rm24LbJ1tlns"
      },
      "source": [
        "pre_w = data_new['pre.weight']\n",
        "aft_w = data_new['weight6weeks']"
      ],
      "execution_count": null,
      "outputs": []
    },
    {
      "cell_type": "code",
      "metadata": {
        "colab": {
          "base_uri": "https://localhost:8080/"
        },
        "id": "Fqk3tu9Xtlq6",
        "outputId": "d52caa24-b6b3-4eb7-9549-7f4dcc67311f"
      },
      "source": [
        "std1, p1 = scipy.stats.ttest_ind(pre_w, aft_w)\n",
        "print(std1, p1)\n",
        "print(\"-\"*50)\n",
        "alpha = 0.05\n",
        "if p1 < alpha:\n",
        "    print('Có đủ bằng chứng để bác bỏ giả thuyết H0. Điều này ngụ ý rằng cân nặng trước và sau khi giảm cân là có sự khác biệt.')\n",
        "else:\n",
        "    print('Không đủ bằng chứng để bác bỏ giả thiết H0. Điều này ngụ ý rằng cân nặng trước và sau khi giảm cân không có sự khác biệt')"
      ],
      "execution_count": null,
      "outputs": [
        {
          "output_type": "stream",
          "text": [
            "3.0342255247628476 0.0028431949414180584\n",
            "--------------------------------------------------\n",
            "Có đủ bằng chứng để bác bỏ giả thuyết H0. Điều này ngụ ý rằng cân nặng trước và sau khi giảm cân là có sự khác biệt.\n"
          ],
          "name": "stdout"
        }
      ]
    },
    {
      "cell_type": "code",
      "metadata": {
        "colab": {
          "base_uri": "https://localhost:8080/",
          "height": 416
        },
        "id": "1jxpIQRKtlur",
        "outputId": "4e9069a0-8f0d-4382-d856-6d7504f5be0d"
      },
      "source": [
        "# Biểu đồ cân nặng trước và sau khi giảm cân\n",
        "\n",
        "plt.figure(figsize=(6, 8))\n",
        "plt.style.use('seaborn')\n",
        "data_new[['pre.weight', 'weight6weeks']].plot(color= ['orange', 'c'])\n",
        "plt.title('Weight before and after diet', fontsize=20)"
      ],
      "execution_count": null,
      "outputs": [
        {
          "output_type": "execute_result",
          "data": {
            "text/plain": [
              "Text(0.5, 1.0, 'Weight before and after diet')"
            ]
          },
          "metadata": {
            "tags": []
          },
          "execution_count": 13
        },
        {
          "output_type": "display_data",
          "data": {
            "text/plain": [
              "<Figure size 432x576 with 0 Axes>"
            ]
          },
          "metadata": {
            "tags": []
          }
        },
        {
          "output_type": "display_data",
          "data": {
            "image/png": "[encoded data removed]",
            "text/plain": [
              "<Figure size 576x396 with 1 Axes>"
            ]
          },
          "metadata": {
            "tags": []
          }
        }
      ]
    },
    {
      "cell_type": "code",
      "metadata": {
        "colab": {
          "base_uri": "https://localhost:8080/",
          "height": 447
        },
        "id": "l-FGuopNtlxz",
        "outputId": "a9ad622f-49ad-47f8-d757-12aec729af51"
      },
      "source": [
        "# Lấy slice data gồm \"Diet\" và \"weightLOST\" để phân tích \n",
        "\n",
        "data3 = data_new[['Diet', 'weightLOST']]\n",
        "data3"
      ],
      "execution_count": null,
      "outputs": [
        {
          "output_type": "execute_result",
          "data": {
            "text/html": [
              "<div>\n",
              "<style scoped>\n",
              "    .dataframe tbody tr th:only-of-type {\n",
              "        vertical-align: middle;\n",
              "    }\n",
              "\n",
              "    .dataframe tbody tr th {\n",
              "        vertical-align: top;\n",
              "    }\n",
              "\n",
              "    .dataframe thead th {\n",
              "        text-align: right;\n",
              "    }\n",
              "</style>\n",
              "<table border=\"1\" class=\"dataframe\">\n",
              "  <thead>\n",
              "    <tr style=\"text-align: right;\">\n",
              "      <th></th>\n",
              "      <th>Diet</th>\n",
              "      <th>weightLOST</th>\n",
              "    </tr>\n",
              "    <tr>\n",
              "      <th>Person</th>\n",
              "      <th></th>\n",
              "      <th></th>\n",
              "    </tr>\n",
              "  </thead>\n",
              "  <tbody>\n",
              "    <tr>\n",
              "      <th>1</th>\n",
              "      <td>1</td>\n",
              "      <td>3.8</td>\n",
              "    </tr>\n",
              "    <tr>\n",
              "      <th>2</th>\n",
              "      <td>1</td>\n",
              "      <td>6.0</td>\n",
              "    </tr>\n",
              "    <tr>\n",
              "      <th>3</th>\n",
              "      <td>1</td>\n",
              "      <td>0.7</td>\n",
              "    </tr>\n",
              "    <tr>\n",
              "      <th>4</th>\n",
              "      <td>1</td>\n",
              "      <td>2.9</td>\n",
              "    </tr>\n",
              "    <tr>\n",
              "      <th>5</th>\n",
              "      <td>1</td>\n",
              "      <td>2.8</td>\n",
              "    </tr>\n",
              "    <tr>\n",
              "      <th>...</th>\n",
              "      <td>...</td>\n",
              "      <td>...</td>\n",
              "    </tr>\n",
              "    <tr>\n",
              "      <th>74</th>\n",
              "      <td>3</td>\n",
              "      <td>2.8</td>\n",
              "    </tr>\n",
              "    <tr>\n",
              "      <th>75</th>\n",
              "      <td>3</td>\n",
              "      <td>4.1</td>\n",
              "    </tr>\n",
              "    <tr>\n",
              "      <th>76</th>\n",
              "      <td>3</td>\n",
              "      <td>5.3</td>\n",
              "    </tr>\n",
              "    <tr>\n",
              "      <th>77</th>\n",
              "      <td>3</td>\n",
              "      <td>9.2</td>\n",
              "    </tr>\n",
              "    <tr>\n",
              "      <th>78</th>\n",
              "      <td>3</td>\n",
              "      <td>6.1</td>\n",
              "    </tr>\n",
              "  </tbody>\n",
              "</table>\n",
              "<p>76 rows × 2 columns</p>\n",
              "</div>"
            ],
            "text/plain": [
              "        Diet  weightLOST\n",
              "Person                  \n",
              "1          1         3.8\n",
              "2          1         6.0\n",
              "3          1         0.7\n",
              "4          1         2.9\n",
              "5          1         2.8\n",
              "...      ...         ...\n",
              "74         3         2.8\n",
              "75         3         4.1\n",
              "76         3         5.3\n",
              "77         3         9.2\n",
              "78         3         6.1\n",
              "\n",
              "[76 rows x 2 columns]"
            ]
          },
          "metadata": {
            "tags": []
          },
          "execution_count": 14
        }
      ]
    },
    {
      "cell_type": "code",
      "metadata": {
        "id": "udvcgMoGtl2D"
      },
      "source": [
        "# Lấy index đã phân loại\n",
        "\n",
        "diet = data3.groupby('Diet').groups"
      ],
      "execution_count": null,
      "outputs": []
    },
    {
      "cell_type": "code",
      "metadata": {
        "colab": {
          "base_uri": "https://localhost:8080/"
        },
        "id": "7UEHzCrMtus0",
        "outputId": "f3548df9-de8c-4f62-c226-8338a91088ec"
      },
      "source": [
        "# Lấy giá trị tương ứng ở cột des_weight \n",
        "\n",
        "type_1 = weightLOST[diet[1]]\n",
        "type_2 = weightLOST[diet[2]]\n",
        "type_3 = weightLOST[diet[3]]\n",
        "type_1"
      ],
      "execution_count": null,
      "outputs": [
        {
          "output_type": "execute_result",
          "data": {
            "text/plain": [
              "Person\n",
              "1     3.8\n",
              "2     6.0\n",
              "3     0.7\n",
              "4     2.9\n",
              "5     2.8\n",
              "6     2.0\n",
              "7     2.0\n",
              "8     8.5\n",
              "9     1.9\n",
              "10    3.1\n",
              "11    1.5\n",
              "12    3.0\n",
              "13    3.6\n",
              "14    0.9\n",
              "15   -0.6\n",
              "16    1.1\n",
              "17    4.5\n",
              "18    4.1\n",
              "19    9.0\n",
              "20    2.4\n",
              "21    3.9\n",
              "22    3.5\n",
              "23    5.1\n",
              "24    3.5\n",
              "dtype: float64"
            ]
          },
          "metadata": {
            "tags": []
          },
          "execution_count": 16
        }
      ]
    },
    {
      "cell_type": "markdown",
      "metadata": {
        "id": "gqk-YroUPyNx"
      },
      "source": [
        "Thông kê đơn giản với 3 phương pháp ăn kiêng bằng hàm describle"
      ]
    },
    {
      "cell_type": "code",
      "metadata": {
        "colab": {
          "base_uri": "https://localhost:8080/"
        },
        "id": "1Xpe2AVntuva",
        "outputId": "3f343bc5-c0f3-45cf-8ca0-21463f6b3692"
      },
      "source": [
        "type_1.describe()"
      ],
      "execution_count": null,
      "outputs": [
        {
          "output_type": "execute_result",
          "data": {
            "text/plain": [
              "count    24.000000\n",
              "mean      3.300000\n",
              "std       2.240148\n",
              "min      -0.600000\n",
              "25%       1.975000\n",
              "50%       3.050000\n",
              "75%       3.950000\n",
              "max       9.000000\n",
              "dtype: float64"
            ]
          },
          "metadata": {
            "tags": []
          },
          "execution_count": 17
        }
      ]
    },
    {
      "cell_type": "code",
      "metadata": {
        "colab": {
          "base_uri": "https://localhost:8080/"
        },
        "id": "KKpfstUEtux9",
        "outputId": "7f5ae491-6c57-41e8-b5d0-af523c7a490b"
      },
      "source": [
        "type_2.describe()"
      ],
      "execution_count": null,
      "outputs": [
        {
          "output_type": "execute_result",
          "data": {
            "text/plain": [
              "count    25.000000\n",
              "mean      3.268000\n",
              "std       2.464535\n",
              "min      -2.100000\n",
              "25%       2.000000\n",
              "50%       3.500000\n",
              "75%       4.700000\n",
              "max       7.900000\n",
              "dtype: float64"
            ]
          },
          "metadata": {
            "tags": []
          },
          "execution_count": 18
        }
      ]
    },
    {
      "cell_type": "code",
      "metadata": {
        "colab": {
          "base_uri": "https://localhost:8080/"
        },
        "id": "MvzyG512tu0V",
        "outputId": "da2ede61-1560-4a50-e646-2b94a2e9376a"
      },
      "source": [
        "type_3.describe()"
      ],
      "execution_count": null,
      "outputs": [
        {
          "output_type": "execute_result",
          "data": {
            "text/plain": [
              "count    27.000000\n",
              "mean      5.148148\n",
              "std       2.395568\n",
              "min       0.500000\n",
              "25%       3.450000\n",
              "50%       5.400000\n",
              "75%       7.000000\n",
              "max       9.200000\n",
              "dtype: float64"
            ]
          },
          "metadata": {
            "tags": []
          },
          "execution_count": 19
        }
      ]
    },
    {
      "cell_type": "markdown",
      "metadata": {
        "id": "ysNHNRwQP0-B"
      },
      "source": [
        "Task 4:\n",
        "4.1: Which diet was best for losing weight?\n",
        "Xây dựng giả thiết:\n",
        "\n",
        "$H_0: \\mu_1 = \\mu_2 = \\mu_3$\n",
        "\n",
        "$H_1: \\mu_i \\neq \\mu_j$ (i $\\neq$ j , i, j $\\in \\overline{1,3}$)\n",
        "\n",
        "Kiểm tra mỗi nhóm có thuộc phân phối chuẩn chưa\n",
        "Sử dụng Shapiro-Wilk test\n",
        "Phát biểu giả thiết:\n",
        "\n",
        "$H_0$: Phân phối của feature là chuẩn\n",
        "\n",
        "$H_1$: Phân phối của feature là không chuẩn"
      ]
    },
    {
      "cell_type": "code",
      "metadata": {
        "colab": {
          "base_uri": "https://localhost:8080/"
        },
        "id": "FYh5XlhItu2i",
        "outputId": "954b46f0-e16e-4763-a982-f2cdaab5cced"
      },
      "source": [
        "\n",
        "# Kiểm tra Type_1\n",
        "from scipy.stats import shapiro\n",
        "stat_type_1, p_type_1 = shapiro(type_1)\n",
        "print('stat=%.3f, p=%.3f' % (stat_type_1, p_type_1))\n",
        "if p_type_1 > 0.05:\n",
        "    print('Không thể bác bỏ giả thiết H0: Phân phối của dữ liệu là chuẩn')\n",
        "    print('Đủ điều kiện để phân tích tiếp')\n",
        "else:\n",
        "    print('Dữ liệu không tuân theo luật phân phối chuẩn')"
      ],
      "execution_count": null,
      "outputs": [
        {
          "output_type": "stream",
          "text": [
            "stat=0.926, p=0.077\n",
            "Không thể bác bỏ giả thiết H0: Phân phối của dữ liệu là chuẩn\n",
            "Đủ điều kiện để phân tích tiếp\n"
          ],
          "name": "stdout"
        }
      ]
    },
    {
      "cell_type": "code",
      "metadata": {
        "colab": {
          "base_uri": "https://localhost:8080/",
          "height": 368
        },
        "id": "HpxCMv9Jtu5V",
        "outputId": "36f617f4-8f58-4099-a49b-066f24e8aef4"
      },
      "source": [
        "mean = np.mean(type_1)\n",
        "# ddof=1 :: hiệu chỉnh\n",
        "std = np.std(type_1, ddof=1)\n",
        "domain = np.linspace(np.min(type_1), np.max(type_1))\n",
        "plt.plot(domain, stats.norm.pdf(domain, mean, std))\n",
        "#density=True :: chuẩn hóa dữ liệu về normal\n",
        "plt.hist(type_1, color='c', edgecolor='brown', density=True)\n",
        "plt.title(\"Type_1\", fontsize=20)\n",
        "plt.show()"
      ],
      "execution_count": null,
      "outputs": [
        {
          "output_type": "display_data",
          "data": {
            "image/png": "[encoded data removed]",
            "text/plain": [
              "<Figure size 576x396 with 1 Axes>"
            ]
          },
          "metadata": {
            "tags": []
          }
        }
      ]
    },
    {
      "cell_type": "code",
      "metadata": {
        "colab": {
          "base_uri": "https://localhost:8080/"
        },
        "id": "Tb7tF62Qt5GE",
        "outputId": "3c59ac65-eafd-4a77-877d-85491fd6c1e5"
      },
      "source": [
        "# Kiểm tra Type_2\n",
        "\n",
        "stat_type_2, p_type_2 = shapiro(type_2)\n",
        "print('stat=%.3f, p=%.3f' % (stat_type_2, p_type_2))\n",
        "if p_type_2 > 0.05:\n",
        "    print('Không thể bác bỏ giả thiết H0: Phân phối của dữ liệu là chuẩn')\n",
        "    print('Đủ điều kiện để phân tích tiếp')\n",
        "else:\n",
        "    print('Dữ liệu không tuân theo luật phân phối chuẩn')"
      ],
      "execution_count": null,
      "outputs": [
        {
          "output_type": "stream",
          "text": [
            "stat=0.979, p=0.872\n",
            "Không thể bác bỏ giả thiết H0: Phân phối của dữ liệu là chuẩn\n",
            "Đủ điều kiện để phân tích tiếp\n"
          ],
          "name": "stdout"
        }
      ]
    },
    {
      "cell_type": "code",
      "metadata": {
        "colab": {
          "base_uri": "https://localhost:8080/",
          "height": 368
        },
        "id": "RiUZE9oRt5I1",
        "outputId": "cfce34f8-3828-4677-c6b4-a90638760b13"
      },
      "source": [
        "mean = np.mean(type_2)\n",
        "# ddof=1 :: hiệu chỉnh\n",
        "std = np.std(type_2, ddof=1)\n",
        "domain = np.linspace(np.min(type_2), np.max(type_2))\n",
        "plt.plot(domain, stats.norm.pdf(domain, mean, std))\n",
        "#density=True :: chuẩn hóa dữ liệu về normal\n",
        "plt.hist(type_2, color='c', edgecolor='brown', density=True)\n",
        "plt.title(\"Type_2\", fontsize=20)\n",
        "plt.show()"
      ],
      "execution_count": null,
      "outputs": [
        {
          "output_type": "display_data",
          "data": {
            "image/png": "[encoded data removed]",
            "text/plain": [
              "<Figure size 576x396 with 1 Axes>"
            ]
          },
          "metadata": {
            "tags": []
          }
        }
      ]
    },
    {
      "cell_type": "code",
      "metadata": {
        "colab": {
          "base_uri": "https://localhost:8080/"
        },
        "id": "THPjqOVpt5Ld",
        "outputId": "aecbc67f-e3e0-4d28-f0d8-308e30c0a87c"
      },
      "source": [
        "# Kiểm tra Type_3\n",
        "\n",
        "stat_type_3, p_type_3 = shapiro(type_3)\n",
        "print('stat=%.3f, p=%.3f' % (stat_type_3, p_type_3))\n",
        "if p_type_3 > 0.05:\n",
        "    print('Không thể bác bỏ giả thiết H0: Phân phối của dữ liệu là chuẩn')\n",
        "    print('Đủ điều kiện để phân tích tiếp')\n",
        "else:\n",
        "    print('Dữ liệu không tuân theo luật phân phối chuẩn')"
      ],
      "execution_count": null,
      "outputs": [
        {
          "output_type": "stream",
          "text": [
            "stat=0.960, p=0.372\n",
            "Không thể bác bỏ giả thiết H0: Phân phối của dữ liệu là chuẩn\n",
            "Đủ điều kiện để phân tích tiếp\n"
          ],
          "name": "stdout"
        }
      ]
    },
    {
      "cell_type": "code",
      "metadata": {
        "colab": {
          "base_uri": "https://localhost:8080/",
          "height": 368
        },
        "id": "N8IAHf_-t5OT",
        "outputId": "f2e31bac-6b5a-4699-ede4-1ed3c96a8715"
      },
      "source": [
        "mean = np.mean(type_3)\n",
        "# ddof=1 :: hiệu chỉnh\n",
        "std = np.std(type_3, ddof=1)\n",
        "domain = np.linspace(np.min(type_3), np.max(type_3))\n",
        "plt.plot(domain, stats.norm.pdf(domain, mean, std))\n",
        "#density=True :: chuẩn hóa dữ liệu về normal\n",
        "plt.hist(type_3, color='c', edgecolor='brown', density=True)\n",
        "plt.title(\"Type_3\", fontsize=20)\n",
        "plt.show()"
      ],
      "execution_count": null,
      "outputs": [
        {
          "output_type": "display_data",
          "data": {
            "image/png": "[encoded data removed]",
            "text/plain": [
              "<Figure size 576x396 with 1 Axes>"
            ]
          },
          "metadata": {
            "tags": []
          }
        }
      ]
    },
    {
      "cell_type": "markdown",
      "metadata": {
        "id": "72Bhv4VSP9n6"
      },
      "source": [
        "\n",
        "Kiểm định tính thuần nhất phương sai (homogeneity of variance)\n",
        "Bartlett’s Test\n",
        "Phát biểu các giả thiết:\n",
        "\n",
        "$H_0$: Các feature đều có phương sai đồng nhất\n",
        "\n",
        "$H_1$: Có ít nhất 2 feature có phương sai khác nhau (lớn)\n",
        "\n",
        "Chú ý: Nếu p < 0.05 = $\\alpha$ thì loại giả thiết $H_0$. Tức là các feature không đồng nhất về phương sai."
      ]
    },
    {
      "cell_type": "code",
      "metadata": {
        "colab": {
          "base_uri": "https://localhost:8080/"
        },
        "id": "SG28_Mu3t5Qz",
        "outputId": "ec9c6165-8728-48db-a798-343a5bcca425"
      },
      "source": [
        "from scipy.stats import bartlett\n",
        "stat_bartlett, p_bartlett = bartlett(type_1, type_2, type_3)\n",
        "print(stat_bartlett, p_bartlett)\n",
        "if p_bartlett > 0.05:\n",
        "    print('Không thể bác bỏ giả thiết H0. Các feature đồng nhất về phương sai')\n",
        "    print('Đủ điều kiện đê phân tích ANOVA')\n",
        "else:\n",
        "    print('Các feature không đồng nhất về phương sai')"
      ],
      "execution_count": null,
      "outputs": [
        {
          "output_type": "stream",
          "text": [
            "0.21811133918795061 0.8966804982694925\n",
            "Không thể bác bỏ giả thiết H0. Các feature đồng nhất về phương sai\n",
            "Đủ điều kiện đê phân tích ANOVA\n"
          ],
          "name": "stdout"
        }
      ]
    },
    {
      "cell_type": "markdown",
      "metadata": {
        "id": "4Z61qFJLQAkO"
      },
      "source": [
        "\n",
        "Phân tích ANOVA"
      ]
    },
    {
      "cell_type": "code",
      "metadata": {
        "colab": {
          "base_uri": "https://localhost:8080/"
        },
        "id": "YyICwoAsuJNT",
        "outputId": "711e9888-c7d4-4a55-d91f-823bc62f8e5b"
      },
      "source": [
        "\n",
        "# Tiến hành phân tích ANOVA 1 chiều\n",
        "\n",
        "from scipy.stats import f_oneway\n",
        "std2 , p2 = f_oneway(type_1, type_2, type_3)\n",
        "print('P_value = ',p2)\n",
        "alpha = 0.05\n",
        "if (p2 < alpha):\n",
        "    print('Có bằng chứng bác bỏ giả thuyết H0. Điều này ngụ ý rằng hiệu quả giữa các phương pháp có sự khác biệt')\n",
        "else:\n",
        "    print('Không đủ bằng chứng bác bỏ giả thuyết H0. Điều này ngụ ý rằng hiệu quả giữa các phương pháp không có sự khác biệt.')"
      ],
      "execution_count": null,
      "outputs": [
        {
          "output_type": "stream",
          "text": [
            "P_value =  0.006595853108669741\n",
            "Có bằng chứng bác bỏ giả thuyết H0. Điều này ngụ ý rằng hiệu quả giữa các phương pháp có sự khác biệt\n"
          ],
          "name": "stdout"
        }
      ]
    },
    {
      "cell_type": "code",
      "metadata": {
        "colab": {
          "base_uri": "https://localhost:8080/",
          "height": 110
        },
        "id": "tsZpY3uhuJQa",
        "outputId": "09e8e1ba-a2cc-4459-cffa-74e0e1ddc7f9"
      },
      "source": [
        "# ANOVA table\n",
        "\n",
        "import statsmodels.api as sm\n",
        "from statsmodels.formula.api import ols\n",
        "\n",
        "model = ols('weightLOST ~ C(Diet)', data=data_new).fit()\n",
        "aov_table = sm.stats.anova_lm(model, typ=2)\n",
        "aov_table"
      ],
      "execution_count": null,
      "outputs": [
        {
          "output_type": "execute_result",
          "data": {
            "text/html": [
              "<div>\n",
              "<style scoped>\n",
              "    .dataframe tbody tr th:only-of-type {\n",
              "        vertical-align: middle;\n",
              "    }\n",
              "\n",
              "    .dataframe tbody tr th {\n",
              "        vertical-align: top;\n",
              "    }\n",
              "\n",
              "    .dataframe thead th {\n",
              "        text-align: right;\n",
              "    }\n",
              "</style>\n",
              "<table border=\"1\" class=\"dataframe\">\n",
              "  <thead>\n",
              "    <tr style=\"text-align: right;\">\n",
              "      <th></th>\n",
              "      <th>sum_sq</th>\n",
              "      <th>df</th>\n",
              "      <th>F</th>\n",
              "      <th>PR(&gt;F)</th>\n",
              "    </tr>\n",
              "  </thead>\n",
              "  <tbody>\n",
              "    <tr>\n",
              "      <th>C(Diet)</th>\n",
              "      <td>60.527008</td>\n",
              "      <td>2.0</td>\n",
              "      <td>5.383104</td>\n",
              "      <td>0.006596</td>\n",
              "    </tr>\n",
              "    <tr>\n",
              "      <th>Residual</th>\n",
              "      <td>410.401807</td>\n",
              "      <td>73.0</td>\n",
              "      <td>NaN</td>\n",
              "      <td>NaN</td>\n",
              "    </tr>\n",
              "  </tbody>\n",
              "</table>\n",
              "</div>"
            ],
            "text/plain": [
              "              sum_sq    df         F    PR(>F)\n",
              "C(Diet)    60.527008   2.0  5.383104  0.006596\n",
              "Residual  410.401807  73.0       NaN       NaN"
            ]
          },
          "metadata": {
            "tags": []
          },
          "execution_count": 28
        }
      ]
    },
    {
      "cell_type": "code",
      "metadata": {
        "colab": {
          "base_uri": "https://localhost:8080/",
          "height": 647
        },
        "id": "_GiDhMhzuJSy",
        "outputId": "f076dd7d-320b-4ae6-e454-095153bd1e26"
      },
      "source": [
        "# Biểu đồ thể hiện mức độ hiệu quả của 3 loại ăn kiêng\n",
        "\n",
        "plt.figure(figsize=(15, 10))\n",
        "plt.plot(type_1)\n",
        "plt.plot(type_2)\n",
        "plt.plot(type_3)\n",
        "plt.title(\"Compare 3 type of diet\", fontsize=20)\n",
        "plt.xlabel(\"Index\", fontsize=15)\n",
        "plt.ylabel(\"Decrease_weight\", fontsize=15)\n",
        "plt.legend([\"Diet_type_1\", \"Diet_type_2\", \"Diet_type_3\"])"
      ],
      "execution_count": null,
      "outputs": [
        {
          "output_type": "execute_result",
          "data": {
            "text/plain": [
              "<matplotlib.legend.Legend at 0x7fa3617b3e10>"
            ]
          },
          "metadata": {
            "tags": []
          },
          "execution_count": 35
        },
        {
          "output_type": "display_data",
          "data": {
            "image/png": "[encoded data removed]",
            "text/plain": [
              "<Figure size 1080x720 with 1 Axes>"
            ]
          },
          "metadata": {
            "tags": []
          }
        }
      ]
    },
    {
      "cell_type": "code",
      "metadata": {
        "colab": {
          "base_uri": "https://localhost:8080/",
          "height": 447
        },
        "id": "flOvnwvuuJVZ",
        "outputId": "7561a569-197b-4b45-bb3c-88f8aebb7a2c"
      },
      "source": [
        "df = pd.DataFrame({'Type_1': type_1, 'Type_2': type_2, 'Type_3': type_3})\n",
        "df"
      ],
      "execution_count": null,
      "outputs": [
        {
          "output_type": "execute_result",
          "data": {
            "text/html": [
              "<div>\n",
              "<style scoped>\n",
              "    .dataframe tbody tr th:only-of-type {\n",
              "        vertical-align: middle;\n",
              "    }\n",
              "\n",
              "    .dataframe tbody tr th {\n",
              "        vertical-align: top;\n",
              "    }\n",
              "\n",
              "    .dataframe thead th {\n",
              "        text-align: right;\n",
              "    }\n",
              "</style>\n",
              "<table border=\"1\" class=\"dataframe\">\n",
              "  <thead>\n",
              "    <tr style=\"text-align: right;\">\n",
              "      <th></th>\n",
              "      <th>Type_1</th>\n",
              "      <th>Type_2</th>\n",
              "      <th>Type_3</th>\n",
              "    </tr>\n",
              "    <tr>\n",
              "      <th>Person</th>\n",
              "      <th></th>\n",
              "      <th></th>\n",
              "      <th></th>\n",
              "    </tr>\n",
              "  </thead>\n",
              "  <tbody>\n",
              "    <tr>\n",
              "      <th>1</th>\n",
              "      <td>3.8</td>\n",
              "      <td>NaN</td>\n",
              "      <td>NaN</td>\n",
              "    </tr>\n",
              "    <tr>\n",
              "      <th>2</th>\n",
              "      <td>6.0</td>\n",
              "      <td>NaN</td>\n",
              "      <td>NaN</td>\n",
              "    </tr>\n",
              "    <tr>\n",
              "      <th>3</th>\n",
              "      <td>0.7</td>\n",
              "      <td>NaN</td>\n",
              "      <td>NaN</td>\n",
              "    </tr>\n",
              "    <tr>\n",
              "      <th>4</th>\n",
              "      <td>2.9</td>\n",
              "      <td>NaN</td>\n",
              "      <td>NaN</td>\n",
              "    </tr>\n",
              "    <tr>\n",
              "      <th>5</th>\n",
              "      <td>2.8</td>\n",
              "      <td>NaN</td>\n",
              "      <td>NaN</td>\n",
              "    </tr>\n",
              "    <tr>\n",
              "      <th>...</th>\n",
              "      <td>...</td>\n",
              "      <td>...</td>\n",
              "      <td>...</td>\n",
              "    </tr>\n",
              "    <tr>\n",
              "      <th>74</th>\n",
              "      <td>NaN</td>\n",
              "      <td>NaN</td>\n",
              "      <td>2.8</td>\n",
              "    </tr>\n",
              "    <tr>\n",
              "      <th>75</th>\n",
              "      <td>NaN</td>\n",
              "      <td>NaN</td>\n",
              "      <td>4.1</td>\n",
              "    </tr>\n",
              "    <tr>\n",
              "      <th>76</th>\n",
              "      <td>NaN</td>\n",
              "      <td>NaN</td>\n",
              "      <td>5.3</td>\n",
              "    </tr>\n",
              "    <tr>\n",
              "      <th>77</th>\n",
              "      <td>NaN</td>\n",
              "      <td>NaN</td>\n",
              "      <td>9.2</td>\n",
              "    </tr>\n",
              "    <tr>\n",
              "      <th>78</th>\n",
              "      <td>NaN</td>\n",
              "      <td>NaN</td>\n",
              "      <td>6.1</td>\n",
              "    </tr>\n",
              "  </tbody>\n",
              "</table>\n",
              "<p>76 rows × 3 columns</p>\n",
              "</div>"
            ],
            "text/plain": [
              "        Type_1  Type_2  Type_3\n",
              "Person                        \n",
              "1          3.8     NaN     NaN\n",
              "2          6.0     NaN     NaN\n",
              "3          0.7     NaN     NaN\n",
              "4          2.9     NaN     NaN\n",
              "5          2.8     NaN     NaN\n",
              "...        ...     ...     ...\n",
              "74         NaN     NaN     2.8\n",
              "75         NaN     NaN     4.1\n",
              "76         NaN     NaN     5.3\n",
              "77         NaN     NaN     9.2\n",
              "78         NaN     NaN     6.1\n",
              "\n",
              "[76 rows x 3 columns]"
            ]
          },
          "metadata": {
            "tags": []
          },
          "execution_count": 34
        }
      ]
    },
    {
      "cell_type": "code",
      "metadata": {
        "colab": {
          "base_uri": "https://localhost:8080/",
          "height": 574
        },
        "id": "UfyYDVUquJYF",
        "outputId": "7934bb1f-c9a7-4ee4-be70-ffaca4fe8e76"
      },
      "source": [
        "# Vẽ boxplot cho 3 phương pháp ăn kiêng \n",
        "\n",
        "plt.figure(figsize=(8, 8))\n",
        "plt.title('Compare 3 type of diet ', fontsize=20)\n",
        "df.boxplot()\n",
        "plt.ylabel('Count', fontsize=15)"
      ],
      "execution_count": null,
      "outputs": [
        {
          "output_type": "stream",
          "text": [
            "/usr/local/lib/python3.7/dist-packages/numpy/core/_asarray.py:83: VisibleDeprecationWarning: Creating an ndarray from ragged nested sequences (which is a list-or-tuple of lists-or-tuples-or ndarrays with different lengths or shapes) is deprecated. If you meant to do this, you must specify 'dtype=object' when creating the ndarray\n",
            "  return array(a, dtype, copy=False, order=order)\n"
          ],
          "name": "stderr"
        },
        {
          "output_type": "execute_result",
          "data": {
            "text/plain": [
              "Text(0, 0.5, 'Count')"
            ]
          },
          "metadata": {
            "tags": []
          },
          "execution_count": 33
        },
        {
          "output_type": "display_data",
          "data": {
            "image/png": "[encoded data removed]",
            "text/plain": [
              "<Figure size 576x576 with 1 Axes>"
            ]
          },
          "metadata": {
            "tags": []
          }
        }
      ]
    },
    {
      "cell_type": "markdown",
      "metadata": {
        "id": "peZYIWYbQFD6"
      },
      "source": [
        "Kiểm định hậu ANOVA (Phân tích sâu ANOVA)¶\n",
        "(tức là kiểm tra hiệu quả giữa các phương pháp ăn kiêng và xem thử phương pháp nào cho hiệu quả tốt nhất)\n",
        "\n",
        "Phát biểu giả thiết:\n",
        "Xét hiệu quả giữa phương pháp 1 và 2:\n",
        "\n",
        "$H_0$: Phương pháp 1 và 2 cho hiệu quả tương đương\n",
        "$H_1$: Một trong 2 phương pháp cho hiệu quả tốt hơn\n",
        "Xét hiệu quả giữa phương pháp 1 và 3:\n",
        "\n",
        "$H_0$: Phương pháp 1 và 3 cho hiệu quả tương đương\n",
        "$H_1$: Một trong 2 phương pháp cho hiệu quả tốt hơn\n",
        "Xét hiệu quả giữa phương pháp 2 và 3:\n",
        "\n",
        "$H_0$: Phương pháp 2 và 3 cho hiệu quả tương đương\n",
        "$H_1$: Một trong 2 phương pháp cho hiệu quả tốt hơn"
      ]
    },
    {
      "cell_type": "code",
      "metadata": {
        "id": "tLigNLAcuJa2"
      },
      "source": [
        "\n",
        "import statsmodels.api as sa\n",
        "import statsmodels.formula.api as sfa\n",
        "import scikit_posthocs as sp\n",
        "\n",
        "\n",
        "lm = sfa.ols('weightLOST ~ C(Diet)', data=data_new).fit()\n",
        "anova = sa.stats.anova_lm(lm)\n",
        "print(anova)"
      ],
      "execution_count": null,
      "outputs": []
    },
    {
      "cell_type": "code",
      "metadata": {
        "id": "kKXltJx1uVKD"
      },
      "source": [
        "\n",
        "sp.posthoc_ttest(data_new, val_col='weightLOST', group_col='Diet', p_adjust='holm')"
      ],
      "execution_count": null,
      "outputs": []
    },
    {
      "cell_type": "markdown",
      "metadata": {
        "id": "xCuktQu_QPul"
      },
      "source": [
        "\n",
        "Kiểm tra xem phương pháp 1, 2 hay phương pháp 3 cho hiệu quả tốt hơn¶"
      ]
    },
    {
      "cell_type": "code",
      "metadata": {
        "colab": {
          "base_uri": "https://localhost:8080/"
        },
        "id": "rwZCmz70uVMt",
        "outputId": "813be9a2-b9f4-49d0-ae4b-23eacc5ad45f"
      },
      "source": [
        "\n",
        "#Range and Standard deviation of type_1\n",
        "\n",
        "min1 = abs(type_1).min()\n",
        "max1 = type_1.max()\n",
        "print(min1)\n",
        "print(max1)\n",
        "print('Range: ',max1-min1)\n",
        "type_1.std()"
      ],
      "execution_count": null,
      "outputs": [
        {
          "output_type": "stream",
          "text": [
            "0.5999999999999943\n",
            "9.0\n",
            "Range:  8.400000000000006\n"
          ],
          "name": "stdout"
        },
        {
          "output_type": "execute_result",
          "data": {
            "text/plain": [
              "2.2401475106709405"
            ]
          },
          "metadata": {
            "tags": []
          },
          "execution_count": 38
        }
      ]
    },
    {
      "cell_type": "code",
      "metadata": {
        "colab": {
          "base_uri": "https://localhost:8080/"
        },
        "id": "B7XrOlTVuVPh",
        "outputId": "8c43bb7a-f43f-4b58-d2d3-50e6ba606f76"
      },
      "source": [
        "#Range and Standard deviation of type_1\n",
        "\n",
        "min2 = abs(type_2).min()\n",
        "max2 = type_2.max()\n",
        "print(min2)\n",
        "print(max2)\n",
        "print('Range: ',max2-min2)\n",
        "type_2.std()"
      ],
      "execution_count": null,
      "outputs": [
        {
          "output_type": "stream",
          "text": [
            "0.5\n",
            "7.900000000000006\n",
            "Range:  7.400000000000006\n"
          ],
          "name": "stdout"
        },
        {
          "output_type": "execute_result",
          "data": {
            "text/plain": [
              "2.464535115053818"
            ]
          },
          "metadata": {
            "tags": []
          },
          "execution_count": 39
        }
      ]
    },
    {
      "cell_type": "code",
      "metadata": {
        "colab": {
          "base_uri": "https://localhost:8080/"
        },
        "id": "PCclSSl_uVRm",
        "outputId": "ade272c8-e8bb-43b3-bb7a-72d016a6602f"
      },
      "source": [
        "#Range and Standard deviation of type_1\n",
        "\n",
        "min3 = type_3.min()\n",
        "max3 = type_3.max()\n",
        "print(min3)\n",
        "print(max3)\n",
        "print('Range: ',max3-min3)\n",
        "type_3.std()"
      ],
      "execution_count": null,
      "outputs": [
        {
          "output_type": "stream",
          "text": [
            "0.5\n",
            "9.200000000000003\n",
            "Range:  8.700000000000003\n"
          ],
          "name": "stdout"
        },
        {
          "output_type": "execute_result",
          "data": {
            "text/plain": [
              "2.3955680826781847"
            ]
          },
          "metadata": {
            "tags": []
          },
          "execution_count": 40
        }
      ]
    },
    {
      "cell_type": "code",
      "metadata": {
        "colab": {
          "base_uri": "https://localhost:8080/",
          "height": 142
        },
        "id": "Lu-Y5LQquVUX",
        "outputId": "85fa6f41-ba33-4bd9-d92f-e724fd1afc44"
      },
      "source": [
        "\n",
        "Range = [max1-min1, max2-min2, max3-min3]\n",
        "Std = [type_1.std(), type_2.std(), type_3.std()]\n",
        "Name = ['1', '2', '3']\n",
        "table = list(zip(Name, Range, Std))\n",
        "table = pd.DataFrame(table)\n",
        "table.columns = ['Type', 'Range', 'Std']\n",
        "table"
      ],
      "execution_count": null,
      "outputs": [
        {
          "output_type": "execute_result",
          "data": {
            "text/html": [
              "<div>\n",
              "<style scoped>\n",
              "    .dataframe tbody tr th:only-of-type {\n",
              "        vertical-align: middle;\n",
              "    }\n",
              "\n",
              "    .dataframe tbody tr th {\n",
              "        vertical-align: top;\n",
              "    }\n",
              "\n",
              "    .dataframe thead th {\n",
              "        text-align: right;\n",
              "    }\n",
              "</style>\n",
              "<table border=\"1\" class=\"dataframe\">\n",
              "  <thead>\n",
              "    <tr style=\"text-align: right;\">\n",
              "      <th></th>\n",
              "      <th>Type</th>\n",
              "      <th>Range</th>\n",
              "      <th>Std</th>\n",
              "    </tr>\n",
              "  </thead>\n",
              "  <tbody>\n",
              "    <tr>\n",
              "      <th>0</th>\n",
              "      <td>1</td>\n",
              "      <td>8.4</td>\n",
              "      <td>2.240148</td>\n",
              "    </tr>\n",
              "    <tr>\n",
              "      <th>1</th>\n",
              "      <td>2</td>\n",
              "      <td>7.4</td>\n",
              "      <td>2.464535</td>\n",
              "    </tr>\n",
              "    <tr>\n",
              "      <th>2</th>\n",
              "      <td>3</td>\n",
              "      <td>8.7</td>\n",
              "      <td>2.395568</td>\n",
              "    </tr>\n",
              "  </tbody>\n",
              "</table>\n",
              "</div>"
            ],
            "text/plain": [
              "  Type  Range       Std\n",
              "0    1    8.4  2.240148\n",
              "1    2    7.4  2.464535\n",
              "2    3    8.7  2.395568"
            ]
          },
          "metadata": {
            "tags": []
          },
          "execution_count": 41
        }
      ]
    },
    {
      "cell_type": "markdown",
      "metadata": {
        "id": "uQ4aJV6CQVzh"
      },
      "source": [
        "\n",
        "4.2: Are there gender differences for weight lost?\n",
        "Xây dựng giả thuyết\n",
        "\n",
        "$H_0:$ Khả năng giảm cân phụ thuộc vào giới tính\n",
        "\n",
        "$H_0:$ Khả năng giảm cân không phụ thuộc vào giới tính"
      ]
    },
    {
      "cell_type": "code",
      "metadata": {
        "colab": {
          "base_uri": "https://localhost:8080/",
          "height": 447
        },
        "id": "H-lParyEuVWX",
        "outputId": "e9077827-2087-4a0e-bef6-e9fb389b7939"
      },
      "source": [
        "\n",
        "data42 = data_new[['gender', 'weightLOST']]\n",
        "data42"
      ],
      "execution_count": null,
      "outputs": [
        {
          "output_type": "execute_result",
          "data": {
            "text/html": [
              "<div>\n",
              "<style scoped>\n",
              "    .dataframe tbody tr th:only-of-type {\n",
              "        vertical-align: middle;\n",
              "    }\n",
              "\n",
              "    .dataframe tbody tr th {\n",
              "        vertical-align: top;\n",
              "    }\n",
              "\n",
              "    .dataframe thead th {\n",
              "        text-align: right;\n",
              "    }\n",
              "</style>\n",
              "<table border=\"1\" class=\"dataframe\">\n",
              "  <thead>\n",
              "    <tr style=\"text-align: right;\">\n",
              "      <th></th>\n",
              "      <th>gender</th>\n",
              "      <th>weightLOST</th>\n",
              "    </tr>\n",
              "    <tr>\n",
              "      <th>Person</th>\n",
              "      <th></th>\n",
              "      <th></th>\n",
              "    </tr>\n",
              "  </thead>\n",
              "  <tbody>\n",
              "    <tr>\n",
              "      <th>1</th>\n",
              "      <td>0</td>\n",
              "      <td>3.8</td>\n",
              "    </tr>\n",
              "    <tr>\n",
              "      <th>2</th>\n",
              "      <td>0</td>\n",
              "      <td>6.0</td>\n",
              "    </tr>\n",
              "    <tr>\n",
              "      <th>3</th>\n",
              "      <td>0</td>\n",
              "      <td>0.7</td>\n",
              "    </tr>\n",
              "    <tr>\n",
              "      <th>4</th>\n",
              "      <td>0</td>\n",
              "      <td>2.9</td>\n",
              "    </tr>\n",
              "    <tr>\n",
              "      <th>5</th>\n",
              "      <td>0</td>\n",
              "      <td>2.8</td>\n",
              "    </tr>\n",
              "    <tr>\n",
              "      <th>...</th>\n",
              "      <td>...</td>\n",
              "      <td>...</td>\n",
              "    </tr>\n",
              "    <tr>\n",
              "      <th>74</th>\n",
              "      <td>1</td>\n",
              "      <td>2.8</td>\n",
              "    </tr>\n",
              "    <tr>\n",
              "      <th>75</th>\n",
              "      <td>1</td>\n",
              "      <td>4.1</td>\n",
              "    </tr>\n",
              "    <tr>\n",
              "      <th>76</th>\n",
              "      <td>1</td>\n",
              "      <td>5.3</td>\n",
              "    </tr>\n",
              "    <tr>\n",
              "      <th>77</th>\n",
              "      <td>1</td>\n",
              "      <td>9.2</td>\n",
              "    </tr>\n",
              "    <tr>\n",
              "      <th>78</th>\n",
              "      <td>1</td>\n",
              "      <td>6.1</td>\n",
              "    </tr>\n",
              "  </tbody>\n",
              "</table>\n",
              "<p>76 rows × 2 columns</p>\n",
              "</div>"
            ],
            "text/plain": [
              "       gender  weightLOST\n",
              "Person                   \n",
              "1           0         3.8\n",
              "2           0         6.0\n",
              "3           0         0.7\n",
              "4           0         2.9\n",
              "5           0         2.8\n",
              "...       ...         ...\n",
              "74          1         2.8\n",
              "75          1         4.1\n",
              "76          1         5.3\n",
              "77          1         9.2\n",
              "78          1         6.1\n",
              "\n",
              "[76 rows x 2 columns]"
            ]
          },
          "metadata": {
            "tags": []
          },
          "execution_count": 42
        }
      ]
    },
    {
      "cell_type": "code",
      "metadata": {
        "colab": {
          "base_uri": "https://localhost:8080/"
        },
        "id": "6gVQcuk6tu7Y",
        "outputId": "4f95d609-bca5-49c3-c344-e8d793ae39f6"
      },
      "source": [
        "gr42 = data42.groupby('gender').groups\n",
        "gr42"
      ],
      "execution_count": null,
      "outputs": [
        {
          "output_type": "execute_result",
          "data": {
            "text/plain": [
              "{'0': [1, 2, 3, 4, 5, 6, 7, 8, 9, 10, 11, 12, 13, 14, 27, 28, 29, 30, 31, 32, 33, 34, 35, 36, 37, 38, 39, 40, 52, 53, 54, 55, 56, 57, 58, 59, 60, 61, 62, 63, 64, 65, 66], '1': [15, 16, 17, 18, 19, 20, 21, 22, 23, 24, 41, 42, 43, 44, 45, 46, 47, 48, 49, 50, 51, 67, 68, 69, 70, 71, 72, 73, 74, 75, 76, 77, 78]}"
            ]
          },
          "metadata": {
            "tags": []
          },
          "execution_count": 43
        }
      ]
    },
    {
      "cell_type": "code",
      "metadata": {
        "id": "e4ER9lOlukkI"
      },
      "source": [
        "gen0 = weightLOST[gr42['0']]\n",
        "gen1 = weightLOST[gr42['1']]\n"
      ],
      "execution_count": null,
      "outputs": []
    },
    {
      "cell_type": "markdown",
      "metadata": {
        "id": "62g4eoi4QYkT"
      },
      "source": [
        "Kiểm tra mỗi nhóm có thuộc phân phối chuẩn chưa\n",
        "Sử dụng Shapiro-Wilk test\n",
        "Phát biểu giả thiết:\n",
        "\n",
        "$H_0$: Phân phối của feature là chuẩn\n",
        "\n",
        "$H_1$: Phân phối của feature là không chuẩn"
      ]
    },
    {
      "cell_type": "code",
      "metadata": {
        "colab": {
          "base_uri": "https://localhost:8080/"
        },
        "id": "jlO19iZeukml",
        "outputId": "3bcbfb00-b372-4c53-abdc-2edfa2e4445b"
      },
      "source": [
        "#Kiểm tra gen0\n",
        "\n",
        "stat_gen_0, p_gen_0 = shapiro(gen0)\n",
        "print('stat=%.3f, p=%.3f' % (stat_gen_0, p_gen_0))\n",
        "if p_gen_0 > 0.05:\n",
        "    print('Không thể bác bỏ giả thiết H0: Phân phối của dữ liệu là chuẩn')\n",
        "    print('Đủ điều kiện để phân tích tiếp')\n",
        "else:\n",
        "    print('Dữ liệu không tuân theo luật phân phối chuẩn')"
      ],
      "execution_count": null,
      "outputs": [
        {
          "output_type": "stream",
          "text": [
            "stat=0.970, p=0.305\n",
            "Không thể bác bỏ giả thiết H0: Phân phối của dữ liệu là chuẩn\n",
            "Đủ điều kiện để phân tích tiếp\n"
          ],
          "name": "stdout"
        }
      ]
    },
    {
      "cell_type": "code",
      "metadata": {
        "colab": {
          "base_uri": "https://localhost:8080/",
          "height": 368
        },
        "id": "K4yva7v7ukr0",
        "outputId": "e3142518-0ca8-43e8-967e-0e71b911d27a"
      },
      "source": [
        "mean = np.mean(gen0)\n",
        "# ddof=1 :: hiệu chỉnh\n",
        "std = np.std(gen0, ddof=1)\n",
        "domain = np.linspace(np.min(gen0), np.max(gen0))\n",
        "plt.plot(domain, stats.norm.pdf(domain, mean, std))\n",
        "#density=True :: chuẩn hóa dữ liệu về normal\n",
        "plt.hist(gen0, color='orange', edgecolor='white', density=True)\n",
        "plt.title(\"Male\", fontsize=20)\n",
        "plt.show()"
      ],
      "execution_count": null,
      "outputs": [
        {
          "output_type": "display_data",
          "data": {
            "image/png": "[encoded data removed]",
            "text/plain": [
              "<Figure size 576x396 with 1 Axes>"
            ]
          },
          "metadata": {
            "tags": []
          }
        }
      ]
    },
    {
      "cell_type": "code",
      "metadata": {
        "colab": {
          "base_uri": "https://localhost:8080/"
        },
        "id": "VtMaCGV3ukuH",
        "outputId": "dbc9c777-136b-4978-fdfe-1545f33e5194"
      },
      "source": [
        "\n",
        "#Kiểm tra gen1\n",
        "\n",
        "stat_gen_1, p_gen_1 = shapiro(gen1)\n",
        "print('stat=%.3f, p=%.3f' % (stat_gen_1, p_gen_1))\n",
        "if p_gen_1 > 0.05:\n",
        "    print('Không thể bác bỏ giả thiết H0: Phân phối của dữ liệu là chuẩn')\n",
        "    print('Đủ điều kiện để phân tích tiếp')\n",
        "else:\n",
        "    print('Dữ liệu không tuân theo luật phân phối chuẩn')"
      ],
      "execution_count": null,
      "outputs": [
        {
          "output_type": "stream",
          "text": [
            "stat=0.975, p=0.638\n",
            "Không thể bác bỏ giả thiết H0: Phân phối của dữ liệu là chuẩn\n",
            "Đủ điều kiện để phân tích tiếp\n"
          ],
          "name": "stdout"
        }
      ]
    },
    {
      "cell_type": "code",
      "metadata": {
        "colab": {
          "base_uri": "https://localhost:8080/",
          "height": 368
        },
        "id": "iBaFMY0-ukwm",
        "outputId": "66986ab7-c53f-488c-9bad-480a31417f87"
      },
      "source": [
        "mean = np.mean(gen1)\n",
        "# ddof=1 :: hiệu chỉnh\n",
        "std = np.std(gen1, ddof=1)\n",
        "domain = np.linspace(np.min(gen0), np.max(gen0))\n",
        "plt.plot(domain, stats.norm.pdf(domain, mean, std))\n",
        "#density=True :: chuẩn hóa dữ liệu về normal\n",
        "plt.hist(gen1, color='orange', edgecolor='white', density=True)\n",
        "plt.title(\"Female\", fontsize=20)\n",
        "plt.show()"
      ],
      "execution_count": null,
      "outputs": [
        {
          "output_type": "display_data",
          "data": {
            "image/png": "[encoded data removed]",
            "text/plain": [
              "<Figure size 576x396 with 1 Axes>"
            ]
          },
          "metadata": {
            "tags": []
          }
        }
      ]
    },
    {
      "cell_type": "markdown",
      "metadata": {
        "id": "wpnZOithQcXL"
      },
      "source": [
        "\n",
        "Kiểm định tính thuần nhất phương sai (homogeneity of variance)\n",
        "Bartlett’s Test\n",
        "Phát biểu các giả thiết:\n",
        "\n",
        "$H_0$: Các feature đều có phương sai đồng nhất\n",
        "\n",
        "$H_1$: Có ít nhất 2 feature có phương sai khác nhau (lớn)\n",
        "\n",
        "Chú ý: Nếu p < 0.05 = $\\alpha$ thì loại giả thiết $H_0$. Tức là các feature không đồng nhất về phương sai."
      ]
    },
    {
      "cell_type": "code",
      "metadata": {
        "colab": {
          "base_uri": "https://localhost:8080/"
        },
        "id": "BZ2Ss_zdukzE",
        "outputId": "0750e730-3205-4c42-d4c5-51930dffdef4"
      },
      "source": [
        "\n",
        "from scipy.stats import bartlett\n",
        "stat_bartlett, p_bartlett = bartlett(gen0, gen1)\n",
        "print(stat_bartlett, p_bartlett)\n",
        "if p_bartlett > 0.05:\n",
        "    print('Không thể bác bỏ giả thiết H0. Các feature đồng nhất về phương sai')\n",
        "    print('Đủ điều kiện đê phân tích ANOVA')\n",
        "else:\n",
        "    print('Các feature không đồng nhất về phương sai')"
      ],
      "execution_count": null,
      "outputs": [
        {
          "output_type": "stream",
          "text": [
            "0.0010952221531771032 0.9735995151820288\n",
            "Không thể bác bỏ giả thiết H0. Các feature đồng nhất về phương sai\n",
            "Đủ điều kiện đê phân tích ANOVA\n"
          ],
          "name": "stdout"
        }
      ]
    },
    {
      "cell_type": "markdown",
      "metadata": {
        "id": "VKs0I887QrOb"
      },
      "source": [
        "Phân tích ANOVA"
      ]
    },
    {
      "cell_type": "code",
      "metadata": {
        "colab": {
          "base_uri": "https://localhost:8080/"
        },
        "id": "RW8Nu9-Ouk1a",
        "outputId": "4aaba9c7-e763-4721-c041-cc1cce94e1d2"
      },
      "source": [
        "from scipy.stats import f_oneway\n",
        "std3 , p3 = f_oneway(gen0, gen1)\n",
        "print('P_value = ',p3)\n",
        "alpha = 0.05\n",
        "if (p3 < alpha):\n",
        "    print('Có bằng chứng bác bỏ giả thuyết H0. Điều này ngụ ý rằng hiệu quả giữa các phương pháp có ảnh hưởng bởi giới tính')\n",
        "else:\n",
        "    print('Không đủ bằng chứng bác bỏ giả thuyết H0. Điều này ngụ ý rằng hiệu quả giữa các phương pháp không ảnh hưởng bởi giới tính.')"
      ],
      "execution_count": null,
      "outputs": [
        {
          "output_type": "stream",
          "text": [
            "P_value =  0.8348273886348012\n",
            "Không đủ bằng chứng bác bỏ giả thuyết H0. Điều này ngụ ý rằng hiệu quả giữa các phương pháp không ảnh hưởng bởi giới tính.\n"
          ],
          "name": "stdout"
        }
      ]
    },
    {
      "cell_type": "code",
      "metadata": {
        "colab": {
          "base_uri": "https://localhost:8080/",
          "height": 110
        },
        "id": "z9vIDNPruyHc",
        "outputId": "786d211f-90a4-4936-960f-b085eafffb9b"
      },
      "source": [
        "# ANOVA Table\n",
        "\n",
        "import statsmodels.api as sm\n",
        "from statsmodels.formula.api import ols\n",
        "\n",
        "model = ols('weightLOST ~ C(gender)', data=data_new).fit()\n",
        "aov_table = sm.stats.anova_lm(model, typ=2)\n",
        "aov_table"
      ],
      "execution_count": null,
      "outputs": [
        {
          "output_type": "execute_result",
          "data": {
            "text/html": [
              "<div>\n",
              "<style scoped>\n",
              "    .dataframe tbody tr th:only-of-type {\n",
              "        vertical-align: middle;\n",
              "    }\n",
              "\n",
              "    .dataframe tbody tr th {\n",
              "        vertical-align: top;\n",
              "    }\n",
              "\n",
              "    .dataframe thead th {\n",
              "        text-align: right;\n",
              "    }\n",
              "</style>\n",
              "<table border=\"1\" class=\"dataframe\">\n",
              "  <thead>\n",
              "    <tr style=\"text-align: right;\">\n",
              "      <th></th>\n",
              "      <th>sum_sq</th>\n",
              "      <th>df</th>\n",
              "      <th>F</th>\n",
              "      <th>PR(&gt;F)</th>\n",
              "    </tr>\n",
              "  </thead>\n",
              "  <tbody>\n",
              "    <tr>\n",
              "      <th>C(gender)</th>\n",
              "      <td>0.278485</td>\n",
              "      <td>1.0</td>\n",
              "      <td>0.043786</td>\n",
              "      <td>0.834827</td>\n",
              "    </tr>\n",
              "    <tr>\n",
              "      <th>Residual</th>\n",
              "      <td>470.650331</td>\n",
              "      <td>74.0</td>\n",
              "      <td>NaN</td>\n",
              "      <td>NaN</td>\n",
              "    </tr>\n",
              "  </tbody>\n",
              "</table>\n",
              "</div>"
            ],
            "text/plain": [
              "               sum_sq    df         F    PR(>F)\n",
              "C(gender)    0.278485   1.0  0.043786  0.834827\n",
              "Residual   470.650331  74.0       NaN       NaN"
            ]
          },
          "metadata": {
            "tags": []
          },
          "execution_count": 51
        }
      ]
    },
    {
      "cell_type": "markdown",
      "metadata": {
        "id": "jNVb7q4xQs9L"
      },
      "source": [
        "Task 5: Effect of diet and gender on weight lost\n",
        "Giả thuyết:\n",
        "$H_0$: Hiệu quả giảm cân của nam và nữ là như nhau.\n",
        "\n",
        "$H_1$: Hiệu quả giảm cân của nam và nữ là khác nhau."
      ]
    },
    {
      "cell_type": "code",
      "metadata": {
        "colab": {
          "base_uri": "https://localhost:8080/",
          "height": 80
        },
        "id": "0WNHPMCruyJ0",
        "outputId": "77f2e88f-f875-4689-ddb9-aa0d3f2a1ef1"
      },
      "source": [
        "# Với mức ý nghĩa 5% thì hiệu quả giảm cân của nam và của nữ có khác nhau không\n",
        "\n",
        "\n",
        "def results(p, vals=['mean1', 'mean2'], alpha=0.05):\n",
        "    cols=['score', 'p_value', 'KetLuan']\n",
        "    if p['p_value'] < alpha:\n",
        "        p['KetLuan'] = f\"Chấp nhận H1 với mức ý nghĩa {alpha}\"\n",
        "    if p['p_value'] >= alpha:\n",
        "        p['KetLuan'] = f\"Chấp nhận H0 với mức ý nghĩa {alpha}\"\n",
        "    df = pd.DataFrame(p, index=[''])\n",
        "    if vals: cols = vals + cols\n",
        "    return df[cols]\n",
        "\n",
        "from scipy.stats import ttest_1samp\n",
        "\n",
        "p = {}\n",
        "p['mean1'] = np.mean(gen0)\n",
        "p['mean2'] = np.mean(gen1)\n",
        "p['score'], p['p_value'] = ttest_1samp(gen0, p['mean2'])\n",
        "results(p)"
      ],
      "execution_count": null,
      "outputs": [
        {
          "output_type": "execute_result",
          "data": {
            "text/html": [
              "<div>\n",
              "<style scoped>\n",
              "    .dataframe tbody tr th:only-of-type {\n",
              "        vertical-align: middle;\n",
              "    }\n",
              "\n",
              "    .dataframe tbody tr th {\n",
              "        vertical-align: top;\n",
              "    }\n",
              "\n",
              "    .dataframe thead th {\n",
              "        text-align: right;\n",
              "    }\n",
              "</style>\n",
              "<table border=\"1\" class=\"dataframe\">\n",
              "  <thead>\n",
              "    <tr style=\"text-align: right;\">\n",
              "      <th></th>\n",
              "      <th>mean1</th>\n",
              "      <th>mean2</th>\n",
              "      <th>score</th>\n",
              "      <th>p_value</th>\n",
              "      <th>KetLuan</th>\n",
              "    </tr>\n",
              "  </thead>\n",
              "  <tbody>\n",
              "    <tr>\n",
              "      <th></th>\n",
              "      <td>3.893023</td>\n",
              "      <td>4.015152</td>\n",
              "      <td>-0.318316</td>\n",
              "      <td>0.751823</td>\n",
              "      <td>Chấp nhận H0 với mức ý nghĩa 0.05</td>\n",
              "    </tr>\n",
              "  </tbody>\n",
              "</table>\n",
              "</div>"
            ],
            "text/plain": [
              "     mean1     mean2     score   p_value                            KetLuan\n",
              "  3.893023  4.015152 -0.318316  0.751823  Chấp nhận H0 với mức ý nghĩa 0.05"
            ]
          },
          "metadata": {
            "tags": []
          },
          "execution_count": 52
        }
      ]
    },
    {
      "cell_type": "markdown",
      "metadata": {
        "id": "coJrM7gSQwOz"
      },
      "source": [
        "\n",
        "Task 6: Means plot of weight lost by diet and gender"
      ]
    },
    {
      "cell_type": "code",
      "metadata": {
        "colab": {
          "base_uri": "https://localhost:8080/",
          "height": 535
        },
        "id": "EZfvotpquyMN",
        "outputId": "2fd9d4ac-4fc9-4458-b279-dd969b754e02"
      },
      "source": [
        "\n",
        "plt.figure(figsize=(8, 8))\n",
        "\n",
        "plt.title('Plots of weight lost by diet and gender', fontsize= 20)\n",
        "sns.color_palette('bright')\n",
        "sns.stripplot(x='gender', y='weightLOST', data=data_new, jitter=True, hue='Diet', dodge=True)"
      ],
      "execution_count": null,
      "outputs": [
        {
          "output_type": "execute_result",
          "data": {
            "text/plain": [
              "<matplotlib.axes._subplots.AxesSubplot at 0x7fa3631cae10>"
            ]
          },
          "metadata": {
            "tags": []
          },
          "execution_count": 53
        },
        {
          "output_type": "display_data",
          "data": {
            "image/png": "[encoded data removed]",
            "text/plain": [
              "<Figure size 576x576 with 1 Axes>"
            ]
          },
          "metadata": {
            "tags": []
          }
        }
      ]
    },
    {
      "cell_type": "markdown",
      "metadata": {
        "id": "_Iwoy6TLQzz3"
      },
      "source": [
        "\n",
        "Task 7: Add height to either ANOVA"
      ]
    },
    {
      "cell_type": "code",
      "metadata": {
        "colab": {
          "base_uri": "https://localhost:8080/",
          "height": 447
        },
        "id": "fZjpFF0OuyOe",
        "outputId": "bc7d5bb1-c501-4fb6-aab1-ff0d03b4e679"
      },
      "source": [
        "data7 = data_new[['Height', 'gender', 'Diet', 'weightLOST']]\n",
        "data7"
      ],
      "execution_count": null,
      "outputs": [
        {
          "output_type": "execute_result",
          "data": {
            "text/html": [
              "<div>\n",
              "<style scoped>\n",
              "    .dataframe tbody tr th:only-of-type {\n",
              "        vertical-align: middle;\n",
              "    }\n",
              "\n",
              "    .dataframe tbody tr th {\n",
              "        vertical-align: top;\n",
              "    }\n",
              "\n",
              "    .dataframe thead th {\n",
              "        text-align: right;\n",
              "    }\n",
              "</style>\n",
              "<table border=\"1\" class=\"dataframe\">\n",
              "  <thead>\n",
              "    <tr style=\"text-align: right;\">\n",
              "      <th></th>\n",
              "      <th>Height</th>\n",
              "      <th>gender</th>\n",
              "      <th>Diet</th>\n",
              "      <th>weightLOST</th>\n",
              "    </tr>\n",
              "    <tr>\n",
              "      <th>Person</th>\n",
              "      <th></th>\n",
              "      <th></th>\n",
              "      <th></th>\n",
              "      <th></th>\n",
              "    </tr>\n",
              "  </thead>\n",
              "  <tbody>\n",
              "    <tr>\n",
              "      <th>1</th>\n",
              "      <td>159</td>\n",
              "      <td>0</td>\n",
              "      <td>1</td>\n",
              "      <td>3.8</td>\n",
              "    </tr>\n",
              "    <tr>\n",
              "      <th>2</th>\n",
              "      <td>192</td>\n",
              "      <td>0</td>\n",
              "      <td>1</td>\n",
              "      <td>6.0</td>\n",
              "    </tr>\n",
              "    <tr>\n",
              "      <th>3</th>\n",
              "      <td>170</td>\n",
              "      <td>0</td>\n",
              "      <td>1</td>\n",
              "      <td>0.7</td>\n",
              "    </tr>\n",
              "    <tr>\n",
              "      <th>4</th>\n",
              "      <td>171</td>\n",
              "      <td>0</td>\n",
              "      <td>1</td>\n",
              "      <td>2.9</td>\n",
              "    </tr>\n",
              "    <tr>\n",
              "      <th>5</th>\n",
              "      <td>170</td>\n",
              "      <td>0</td>\n",
              "      <td>1</td>\n",
              "      <td>2.8</td>\n",
              "    </tr>\n",
              "    <tr>\n",
              "      <th>...</th>\n",
              "      <td>...</td>\n",
              "      <td>...</td>\n",
              "      <td>...</td>\n",
              "      <td>...</td>\n",
              "    </tr>\n",
              "    <tr>\n",
              "      <th>74</th>\n",
              "      <td>183</td>\n",
              "      <td>1</td>\n",
              "      <td>3</td>\n",
              "      <td>2.8</td>\n",
              "    </tr>\n",
              "    <tr>\n",
              "      <th>75</th>\n",
              "      <td>177</td>\n",
              "      <td>1</td>\n",
              "      <td>3</td>\n",
              "      <td>4.1</td>\n",
              "    </tr>\n",
              "    <tr>\n",
              "      <th>76</th>\n",
              "      <td>164</td>\n",
              "      <td>1</td>\n",
              "      <td>3</td>\n",
              "      <td>5.3</td>\n",
              "    </tr>\n",
              "    <tr>\n",
              "      <th>77</th>\n",
              "      <td>167</td>\n",
              "      <td>1</td>\n",
              "      <td>3</td>\n",
              "      <td>9.2</td>\n",
              "    </tr>\n",
              "    <tr>\n",
              "      <th>78</th>\n",
              "      <td>175</td>\n",
              "      <td>1</td>\n",
              "      <td>3</td>\n",
              "      <td>6.1</td>\n",
              "    </tr>\n",
              "  </tbody>\n",
              "</table>\n",
              "<p>76 rows × 4 columns</p>\n",
              "</div>"
            ],
            "text/plain": [
              "        Height gender  Diet  weightLOST\n",
              "Person                                 \n",
              "1          159      0     1         3.8\n",
              "2          192      0     1         6.0\n",
              "3          170      0     1         0.7\n",
              "4          171      0     1         2.9\n",
              "5          170      0     1         2.8\n",
              "...        ...    ...   ...         ...\n",
              "74         183      1     3         2.8\n",
              "75         177      1     3         4.1\n",
              "76         164      1     3         5.3\n",
              "77         167      1     3         9.2\n",
              "78         175      1     3         6.1\n",
              "\n",
              "[76 rows x 4 columns]"
            ]
          },
          "metadata": {
            "tags": []
          },
          "execution_count": 54
        }
      ]
    },
    {
      "cell_type": "code",
      "metadata": {
        "id": "W5HPRMVMuk6Z"
      },
      "source": [
        "from pingouin import ancova\n",
        "\n",
        "#perform ANCOVA\n",
        "ancova(data=data7, dv='weightLOST', covar='Height', between='Diet')"
      ],
      "execution_count": null,
      "outputs": []
    }
  ]
}