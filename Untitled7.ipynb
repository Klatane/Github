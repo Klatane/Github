{
  "nbformat": 4,
  "nbformat_minor": 0,
  "metadata": {
    "colab": {
      "name": "Untitled7.ipynb",
      "provenance": [],
      "authorship_tag": "ABX9TyO/0ZUaZFTBq1D+hxMU0D1z",
      "include_colab_link": true
    },
    "kernelspec": {
      "name": "python3",
      "display_name": "Python 3"
    }
  },
  "cells": [
    {
      "cell_type": "markdown",
      "metadata": {
        "id": "view-in-github",
        "colab_type": "text"
      },
      "source": [
        "<a href=\"https://colab.research.google.com/github/Klatane/Github/blob/master/Untitled7.ipynb\" target=\"_parent\"><img src=\"https://colab.research.google.com/assets/colab-badge.svg\" alt=\"Open In Colab\"/></a>"
      ]
    },
    {
      "cell_type": "code",
      "metadata": {
        "id": "X_AVAnmnkn23"
      },
      "source": [
        "import os\r\n",
        "list1=list()\r\n",
        "list2=list()\r\n",
        "for (root,dirs,files) in os.walk('C:'):\r\n",
        "    print(\"thu muc o dia C:\",root)\r\n",
        "    print(\"thu muc con\",dirs)\r\n",
        "    print(\"tap tin \",files)\r\n",
        "for (root,dirs,files) in os.walk('C:'):\r\n",
        "    for i in files:\r\n",
        "        list1.append(i)\r\n",
        "    for x in dirs:\r\n",
        "        list2.append(x)\r\n",
        "print(\"list tap tin \",list1)\r\n",
        "print(\"list thu muc con \",list2)"
      ],
      "execution_count": null,
      "outputs": []
    }
  ]
}