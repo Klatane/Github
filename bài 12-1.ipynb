{
  "nbformat": 4,
  "nbformat_minor": 0,
  "metadata": {
    "colab": {
      "name": "Untitled2.ipynb",
      "provenance": [],
      "collapsed_sections": [],
      "authorship_tag": "ABX9TyNaIs7KfbPaDg4iZXbGnnX0",
      "include_colab_link": true
    },
    "kernelspec": {
      "name": "python3",
      "display_name": "Python 3"
    }
  },
  "cells": [
    {
      "cell_type": "markdown",
      "metadata": {
        "id": "view-in-github",
        "colab_type": "text"
      },
      "source": [
        "<a href=\"https://colab.research.google.com/github/Klatane/Github/blob/master/b%C3%A0i%2012-1.ipynb\" target=\"_parent\"><img src=\"https://colab.research.google.com/assets/colab-badge.svg\" alt=\"Open In Colab\"/></a>"
      ]
    },
    {
      "cell_type": "code",
      "metadata": {
        "colab": {
          "base_uri": "https://localhost:8080/"
        },
        "id": "QzDqPAD9X_M5",
        "outputId": "c4408a0c-0c7a-411b-ee17-d40af0324d61"
      },
      "source": [
        "import random\n",
        "while True:\n",
        "    n=int(input(\"n=\"))\n",
        "    if n in range(50,1001):\n",
        "    \n",
        "      break       \n",
        "    else:\n",
        "        print(\"nhap lai\")\n",
        "#Generate 5 random numbers between 10 and 30\n",
        "randomlist = random.sample(range(-1000,1000), n)\n",
        "print(randomlist)\n",
        "# random 1 list = so thuc\n",
        "# list of random float between a range 50.50 to 500.50\n",
        "a = []\n",
        "# Set a length of the list to 10\n",
        "for i in range(0, n):\n",
        "    # any random float between 50.50 to 500.50\n",
        "    # don't use round() if you need number as it is\n",
        "    x = round(random.uniform(-1000,1000),1)\n",
        "    a.append(x)\n",
        "\n",
        "print(\"Danh sách list số thực là\")\n",
        "print(a)\n",
        "    "
      ],
      "execution_count": 1,
      "outputs": [
        {
          "output_type": "stream",
          "text": [
            "n=100\n",
            "[593, 654, 733, -24, 951, 755, 845, 573, -642, -856, 338, -218, -130, -162, 497, -394, 236, -474, -956, -137, 512, 670, 301, 213, 746, -341, -740, -510, -571, 991, 434, 439, 413, -848, 383, 552, -617, -166, -583, -923, 251, -82, 115, -65, -352, 642, 877, -192, 6, -874, 309, 402, -590, 983, 258, 761, -105, 587, 124, 188, 492, 469, -214, -811, -438, 700, -565, 840, -227, -732, 584, -377, -306, 163, 84, 868, 171, -719, 786, 997, 446, 858, 144, -15, -315, -72, -263, -177, 376, 277, -171, -439, -797, 17, -608, 702, -830, -239, 449, 423]\n",
            "Printing list of 10 random float numbers\n",
            "[368.0, 597.7, 136.4, -673.2, -285.8, 453.5, 485.9, 655.0, -975.2, 188.6, 896.1, -407.5, -513.9, 360.2, -316.9, 961.1, -194.1, -280.6, 650.4, -500.3, 373.9, 880.9, -725.6, -250.3, -328.4, 679.6, 319.4, -200.6, -499.4, -111.2, -521.7, 408.5, 959.9, 158.0, -237.5, 701.4, 793.6, -799.8, 441.2, -498.2, 807.9, -640.5, 733.9, 158.6, -726.4, -467.0, -940.0, -361.5, 701.4, -379.3, -538.7, 815.5, -966.9, 289.8, 160.7, 81.5, 35.9, -507.4, -673.4, 376.7, 568.2, 42.1, -188.3, -405.4, 671.1, 627.9, -105.7, -61.7, -963.4, 769.4, 32.2, -883.8, 124.0, 628.6, -516.5, 292.5, -716.3, -170.0, 809.1, 539.0, -119.0, 862.8, -208.6, 897.6, 256.0, 374.2, 517.3, -134.0, -790.1, -183.3, 328.9, 789.0, -405.0, 753.9, -82.3, -22.1, -83.7, -159.6, 207.6, -185.7]\n"
          ],
          "name": "stdout"
        }
      ]
    }
  ]
}