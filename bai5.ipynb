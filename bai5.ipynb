{
  "nbformat": 4,
  "nbformat_minor": 0,
  "metadata": {
    "colab": {
      "name": "Untitled3.ipynb",
      "provenance": [],
      "collapsed_sections": [],
      "authorship_tag": "ABX9TyPLj4pTjJndlxl0dMAO1F4P",
      "include_colab_link": true
    },
    "kernelspec": {
      "name": "python3",
      "display_name": "Python 3"
    }
  },
  "cells": [
    {
      "cell_type": "markdown",
      "metadata": {
        "id": "view-in-github",
        "colab_type": "text"
      },
      "source": [
        "<a href=\"https://colab.research.google.com/github/Klatane/Github/blob/master/bai5.ipynb\" target=\"_parent\"><img src=\"https://colab.research.google.com/assets/colab-badge.svg\" alt=\"Open In Colab\"/></a>"
      ]
    },
    {
      "cell_type": "code",
      "metadata": {
        "id": "wNXjH-KtY-Rn"
      },
      "source": [
        "A= [1,3,5,7,23,45,12]\n",
        "for i in range(0,7):\n",
        "    print(A[i])\n",
        "    import math\n",
        "for i in range(0,7):\n",
        "    print(math.log2(A[i])) \n",
        "    "
      ],
      "execution_count": null,
      "outputs": []
    }
  ]
}