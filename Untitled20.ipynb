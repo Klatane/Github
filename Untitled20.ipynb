{
  "nbformat": 4,
  "nbformat_minor": 0,
  "metadata": {
    "colab": {
      "name": "Untitled20.ipynb",
      "provenance": [],
      "authorship_tag": "ABX9TyOrpUrwttDZTHlO0fzoI5w/",
      "include_colab_link": true
    },
    "kernelspec": {
      "name": "python3",
      "display_name": "Python 3"
    },
    "language_info": {
      "name": "python"
    }
  },
  "cells": [
    {
      "cell_type": "markdown",
      "metadata": {
        "id": "view-in-github",
        "colab_type": "text"
      },
      "source": [
        "<a href=\"https://colab.research.google.com/github/Klatane/Github/blob/master/Untitled20.ipynb\" target=\"_parent\"><img src=\"https://colab.research.google.com/assets/colab-badge.svg\" alt=\"Open In Colab\"/></a>"
      ]
    },
    {
      "cell_type": "code",
      "metadata": {
        "colab": {
          "base_uri": "https://localhost:8080/"
        },
        "id": "43G-_lOdFwKU",
        "outputId": "b0ac3943-db9d-4251-dd4d-ffb64967a45b"
      },
      "source": [
        "import pandas as pd\n",
        "import numpy as np\n",
        "s = pd.Series(np.random.randint(100,size = 20))\n",
        "s"
      ],
      "execution_count": 1,
      "outputs": [
        {
          "output_type": "execute_result",
          "data": {
            "text/plain": [
              "0     14\n",
              "1     43\n",
              "2     59\n",
              "3      4\n",
              "4     80\n",
              "5     42\n",
              "6      0\n",
              "7     10\n",
              "8     14\n",
              "9     12\n",
              "10    44\n",
              "11    76\n",
              "12    81\n",
              "13    43\n",
              "14     3\n",
              "15    48\n",
              "16    48\n",
              "17    48\n",
              "18    22\n",
              "19    16\n",
              "dtype: int64"
            ]
          },
          "metadata": {
            "tags": []
          },
          "execution_count": 1
        }
      ]
    },
    {
      "cell_type": "code",
      "metadata": {
        "colab": {
          "base_uri": "https://localhost:8080/"
        },
        "id": "N6niQADuF0Ek",
        "outputId": "d2387682-c0fc-495b-d2cd-1edea3198b72"
      },
      "source": [
        "\n",
        "phones = ['Iphone',\"Samsung Note\",\"Samsung S\",\"Nokia\",\"Cuong\"]\n",
        "quantities = [10,12,30,100,0]\n",
        "\n",
        "dictionary = dict(zip(phones, quantities))\n",
        "dictionary\n",
        "\n",
        "{'Samsung Note': 12, 'Samsung S': 30, 'Nokia': 100, 'Iphone': 10, 'Cuong':0}\n",
        "S = pd.Series(dictionary)\n",
        "S"
      ],
      "execution_count": 2,
      "outputs": [
        {
          "output_type": "execute_result",
          "data": {
            "text/plain": [
              "Iphone           10\n",
              "Samsung Note     12\n",
              "Samsung S        30\n",
              "Nokia           100\n",
              "Cuong             0\n",
              "dtype: int64"
            ]
          },
          "metadata": {
            "tags": []
          },
          "execution_count": 2
        }
      ]
    },
    {
      "cell_type": "code",
      "metadata": {
        "colab": {
          "base_uri": "https://localhost:8080/"
        },
        "id": "RqgIr5roF2MU",
        "outputId": "b8d80524-5fb0-4dc0-be39-fd2b15fb31c9"
      },
      "source": [
        "s = pd.Series(np.random.randint(100,size = 20),\n",
        "index=['t', 'h', 'a', 'y', 'c', 'u', 'o', 'n', 'g', 'd', 'e','p', 't', 'r', 'a', 'i', 'n', 'h', 'a', 't'])\n",
        "s"
      ],
      "execution_count": 3,
      "outputs": [
        {
          "output_type": "execute_result",
          "data": {
            "text/plain": [
              "t    53\n",
              "h    30\n",
              "a     7\n",
              "y    66\n",
              "c    26\n",
              "u    30\n",
              "o    24\n",
              "n    67\n",
              "g    59\n",
              "d    87\n",
              "e    77\n",
              "p    21\n",
              "t    34\n",
              "r    61\n",
              "a    56\n",
              "i    90\n",
              "n    26\n",
              "h    41\n",
              "a    25\n",
              "t    10\n",
              "dtype: int64"
            ]
          },
          "metadata": {
            "tags": []
          },
          "execution_count": 3
        }
      ]
    },
    {
      "cell_type": "code",
      "metadata": {
        "colab": {
          "base_uri": "https://localhost:8080/"
        },
        "id": "DwyGjFocF6XS",
        "outputId": "c1f7251f-8efc-417c-a3c0-7b2d4a4f53f8"
      },
      "source": [
        "phones = ['Iphone',\"Samsung Note\",\"Samsung S\",\"Nokia\",\"Cuong\"]\n",
        "quantities = [10,12,30,100,0]\n",
        "\n",
        "dictionary = dict(zip(phones, quantities))\n",
        "dictionary\n",
        "\n",
        "{'Samsung Note': 12, 'Samsung S': 30, 'Nokia': 100, 'Iphone': 10, 'Cuong':0}\n",
        "S = pd.Series(dictionary)\n",
        "print(phones[4])\n"
      ],
      "execution_count": 5,
      "outputs": [
        {
          "output_type": "stream",
          "text": [
            "Cuong\n"
          ],
          "name": "stdout"
        }
      ]
    },
    {
      "cell_type": "code",
      "metadata": {
        "colab": {
          "base_uri": "https://localhost:8080/"
        },
        "id": "7zJeQ-fwF9IB",
        "outputId": "3887903c-af6e-4971-a774-05981b5859f8"
      },
      "source": [
        "\n",
        "s = pd.Series(np.random.randint(100,size = 20),\n",
        "index=['t', 'h', 'a', 'y', 'c', 'u', 'o', 'n', 'g', 'd', 'e','p', 't', 'r', 'a', 'i', 'n', 'h', 'a', 't'])\n",
        "print(s['c'])"
      ],
      "execution_count": 6,
      "outputs": [
        {
          "output_type": "stream",
          "text": [
            "16\n"
          ],
          "name": "stdout"
        }
      ]
    },
    {
      "cell_type": "code",
      "metadata": {
        "colab": {
          "base_uri": "https://localhost:8080/"
        },
        "id": "OiPloFUaF_tj",
        "outputId": "bcfbd8e0-4935-4093-f031-27a1ac3eb0c1"
      },
      "source": [
        "print(s[[name.endswith(\"t\") or name.startswith(\"5\") for name in s.index]])"
      ],
      "execution_count": 7,
      "outputs": [
        {
          "output_type": "stream",
          "text": [
            "t    22\n",
            "t    73\n",
            "t    79\n",
            "dtype: int64\n"
          ],
          "name": "stdout"
        }
      ]
    },
    {
      "cell_type": "code",
      "metadata": {
        "colab": {
          "base_uri": "https://localhost:8080/"
        },
        "id": "CjaFS9-YGCGr",
        "outputId": "560bf796-d955-4eef-d54a-f788ad79f0a1"
      },
      "source": [
        "s.index.name = \"STT\"\n",
        "s.name = \"Gia_Tri\"\n",
        "print(s)"
      ],
      "execution_count": 8,
      "outputs": [
        {
          "output_type": "stream",
          "text": [
            "STT\n",
            "t    22\n",
            "h    48\n",
            "a    26\n",
            "y    34\n",
            "c    16\n",
            "u    92\n",
            "o    80\n",
            "n     2\n",
            "g    94\n",
            "d    49\n",
            "e    51\n",
            "p    53\n",
            "t    73\n",
            "r    40\n",
            "a    54\n",
            "i     0\n",
            "n    97\n",
            "h    37\n",
            "a    95\n",
            "t    79\n",
            "Name: Gia_Tri, dtype: int64\n"
          ],
          "name": "stdout"
        }
      ]
    },
    {
      "cell_type": "code",
      "metadata": {
        "colab": {
          "base_uri": "https://localhost:8080/"
        },
        "id": "ZLUC-LjGGDmB",
        "outputId": "77b3a1e4-1e97-4762-e742-f829daf39bd9"
      },
      "source": [
        "np.log(s)"
      ],
      "execution_count": 9,
      "outputs": [
        {
          "output_type": "stream",
          "text": [
            "/usr/local/lib/python3.7/dist-packages/pandas/core/series.py:726: RuntimeWarning: divide by zero encountered in log\n",
            "  result = getattr(ufunc, method)(*inputs, **kwargs)\n"
          ],
          "name": "stderr"
        },
        {
          "output_type": "execute_result",
          "data": {
            "text/plain": [
              "STT\n",
              "t    3.091042\n",
              "h    3.871201\n",
              "a    3.258097\n",
              "y    3.526361\n",
              "c    2.772589\n",
              "u    4.521789\n",
              "o    4.382027\n",
              "n    0.693147\n",
              "g    4.543295\n",
              "d    3.891820\n",
              "e    3.931826\n",
              "p    3.970292\n",
              "t    4.290459\n",
              "r    3.688879\n",
              "a    3.988984\n",
              "i        -inf\n",
              "n    4.574711\n",
              "h    3.610918\n",
              "a    4.553877\n",
              "t    4.369448\n",
              "Name: Gia_Tri, dtype: float64"
            ]
          },
          "metadata": {
            "tags": []
          },
          "execution_count": 9
        }
      ]
    },
    {
      "cell_type": "code",
      "metadata": {
        "colab": {
          "base_uri": "https://localhost:8080/"
        },
        "id": "DEZ861MjGGkU",
        "outputId": "091408d2-c4f8-41bb-9520-d8718adf6691"
      },
      "source": [
        "se = []      #Để chứa các giá trị của series 1 > 15\n",
        "for row in s:\n",
        "    if row > 15:\n",
        "        se.append(row)    #Thêm các giá trị của series 1 > 15 vào \n",
        "\n",
        "srs = pd.Series(se)\n",
        "print(srs)"
      ],
      "execution_count": 10,
      "outputs": [
        {
          "output_type": "stream",
          "text": [
            "0     22\n",
            "1     48\n",
            "2     26\n",
            "3     34\n",
            "4     16\n",
            "5     92\n",
            "6     80\n",
            "7     94\n",
            "8     49\n",
            "9     51\n",
            "10    53\n",
            "11    73\n",
            "12    40\n",
            "13    54\n",
            "14    97\n",
            "15    37\n",
            "16    95\n",
            "17    79\n",
            "dtype: int64\n"
          ],
          "name": "stdout"
        }
      ]
    }
  ]
}