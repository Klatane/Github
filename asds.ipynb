{
  "nbformat": 4,
  "nbformat_minor": 0,
  "metadata": {
    "colab": {
      "name": "techniques-bs.ipynb",
      "provenance": [],
      "include_colab_link": true
    },
    "kernelspec": {
      "name": "python3",
      "display_name": "Python 3"
    }
  },
  "cells": [
    {
      "cell_type": "markdown",
      "metadata": {
        "id": "view-in-github",
        "colab_type": "text"
      },
      "source": [
        "<a href=\"https://colab.research.google.com/github/Klatane/Github/blob/master/asds.ipynb\" target=\"_parent\"><img src=\"https://colab.research.google.com/assets/colab-badge.svg\" alt=\"Open In Colab\"/></a>"
      ]
    },
    {
      "cell_type": "markdown",
      "metadata": {
        "id": "nxCw7AZAZrUy"
      },
      "source": [
        "1 Tải 1 url về"
      ]
    },
    {
      "cell_type": "code",
      "metadata": {
        "id": "gUabxirVZibE"
      },
      "source": [
        "from bs4 import BeautifulSoup\r\n",
        "url = 'https://vietnamnet.vn/'\r\n",
        "soup = BeautifulSoup(url)\r\n",
        "print(soup)"
      ],
      "execution_count": null,
      "outputs": []
    },
    {
      "cell_type": "markdown",
      "metadata": {
        "id": "osKHdc80ZwDV"
      },
      "source": [
        "2. Lưu 1 html vào thư mục chỉ định"
      ]
    },
    {
      "cell_type": "code",
      "metadata": {
        "id": "-gvDk-nlZzLo"
      },
      "source": [
        "\r\n",
        "import os\r\n",
        "file = 'url_list' + '.txt'\r\n",
        "f = open(file, mode = 'w')\r\n",
        "f.write('url\\n')    #Nhập nội dung file\r\n",
        "f.close()\r\n",
        "h = 'C:\\\\Users\\\\ADMIN\\\\Desktop'+'\\\\'+file\r\n",
        "\r\n",
        "os.rename(file,h)   #lưu file"
      ],
      "execution_count": 14,
      "outputs": []
    },
    {
      "cell_type": "markdown",
      "metadata": {
        "id": "BcKYLfcxZ-Hn"
      },
      "source": [
        "3. Cách lấy 1 phần tử đầu tiên ra khỏi list và xóa nó khỏi list"
      ]
    },
    {
      "cell_type": "code",
      "metadata": {
        "id": "rjRGJjQiaB-Y",
        "colab": {
          "base_uri": "https://localhost:8080/"
        },
        "outputId": "aabf6331-b5ad-499e-dfb0-af4573fb0bc6"
      },
      "source": [
        "a = [1, 2, 3, 4, 5]\r\n",
        "x = a.pop(0)\r\n",
        "print(a)"
      ],
      "execution_count": null,
      "outputs": [
        {
          "output_type": "stream",
          "text": [
            "[2, 3, 4, 5]\n"
          ],
          "name": "stdout"
        }
      ]
    },
    {
      "cell_type": "markdown",
      "metadata": {
        "id": "pfd7r87vaDSZ"
      },
      "source": [
        "4. Cách lấy các url trong html"
      ]
    },
    {
      "cell_type": "code",
      "metadata": {
        "id": "osOcronYaGuY"
      },
      "source": [
        "from urllib.request import urlopen\r\n",
        "from bs4 import BeautifulSoup \r\n",
        "\r\n",
        "html = urlopen(url)\r\n",
        "bs = BeautifulSoup(html, 'html.parser')\r\n",
        "for link in bs.find_all(\"a\"):\r\n",
        "    if 'href' in link.attrs:\r\n",
        "        print(link.attrs['href'])"
      ],
      "execution_count": null,
      "outputs": []
    }
  ]
}