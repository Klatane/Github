{
  "nbformat": 4,
  "nbformat_minor": 0,
  "metadata": {
    "colab": {
      "name": "Untitled3.ipynb",
      "provenance": [],
      "collapsed_sections": [],
      "authorship_tag": "ABX9TyO/z8RxjjQJorUtUJENbdea",
      "include_colab_link": true
    },
    "kernelspec": {
      "name": "python3",
      "display_name": "Python 3"
    }
  },
  "cells": [
    {
      "cell_type": "markdown",
      "metadata": {
        "id": "view-in-github",
        "colab_type": "text"
      },
      "source": [
        "<a href=\"https://colab.research.google.com/github/Klatane/Github/blob/master/bai1.ipynb\" target=\"_parent\"><img src=\"https://colab.research.google.com/assets/colab-badge.svg\" alt=\"Open In Colab\"/></a>"
      ]
    },
    {
      "cell_type": "code",
      "metadata": {
        "id": "Iil_b4HzY8ME"
      },
      "source": [
        "# đây là while\n",
        "i=1\n",
        "i=int(i)\n",
        "print (\"message là\")\n",
        "n= input()\n",
        "print (\"nhập x\")\n",
        "x= input()\n",
        "x=int(x)\n",
        "while i<=x:\n",
        "    print (n)\n",
        "    i=i+1\n",
        "    \n",
        "# còn đây là for\n",
        "print(\"đây là out put của for\")\n",
        "for k in range(5):\n",
        "    print(n)\n",
        "    \n",
        "    \n",
        "# đây là 2 output y hệt nhau,vậy while loop có thể thay bằng for loop"
      ],
      "execution_count": null,
      "outputs": []
    }
  ]
}