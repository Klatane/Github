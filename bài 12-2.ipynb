{
  "nbformat": 4,
  "nbformat_minor": 0,
  "metadata": {
    "colab": {
      "name": "Untitled5.ipynb",
      "provenance": [],
      "collapsed_sections": [],
      "authorship_tag": "ABX9TyPLjzKHZqiKHMzjPzNjIOO1",
      "include_colab_link": true
    },
    "kernelspec": {
      "name": "python3",
      "display_name": "Python 3"
    }
  },
  "cells": [
    {
      "cell_type": "markdown",
      "metadata": {
        "id": "view-in-github",
        "colab_type": "text"
      },
      "source": [
        "<a href=\"https://colab.research.google.com/github/Klatane/Github/blob/master/b%C3%A0i%2012-2.ipynb\" target=\"_parent\"><img src=\"https://colab.research.google.com/assets/colab-badge.svg\" alt=\"Open In Colab\"/></a>"
      ]
    },
    {
      "cell_type": "code",
      "metadata": {
        "colab": {
          "base_uri": "https://localhost:8080/"
        },
        "id": "X2BCJMaUcZQs",
        "outputId": "133ee8f7-4ac7-42df-b815-42f08b4cb65c"
      },
      "source": [
        "\r\n",
        "a=[]\r\n",
        "import random, string\r\n",
        "m=random.randint(50,101)\r\n",
        "for i in range(m):\r\n",
        "    n = random.randint(1,12)\r\n",
        "    ten = random.choice(string.ascii_letters)\r\n",
        "    for i in range(n):\r\n",
        "        ten += random.choice(string.ascii_lowercase)\r\n",
        "        ten=str.capitalize (ten)\r\n",
        "    tuoi = random.randint(0,100)\r\n",
        "    a.append(dict(name=ten,age=tuoi))\r\n",
        "print(\"list tên là: \\n\", a)"
      ],
      "execution_count": 4,
      "outputs": [
        {
          "output_type": "stream",
          "text": [
            "list tên là: \n",
            " [{'name': 'Ktnvnnmrwh', 'age': 67}, {'name': 'Wpqvni', 'age': 51}, {'name': 'Tlg', 'age': 53}, {'name': 'Rzvrsyllkhzgy', 'age': 36}, {'name': 'Yfjqoisgd', 'age': 93}, {'name': 'Cjgr', 'age': 26}, {'name': 'Twntyeg', 'age': 97}, {'name': 'Dgeqw', 'age': 10}, {'name': 'Rlpdvsmjsfqr', 'age': 80}, {'name': 'Uf', 'age': 34}, {'name': 'Snxy', 'age': 96}, {'name': 'Izzgyt', 'age': 41}, {'name': 'Hhdtlkauuq', 'age': 13}, {'name': 'Ulaa', 'age': 33}, {'name': 'Xnnopywxohtwa', 'age': 56}, {'name': 'Nlevmwvv', 'age': 22}, {'name': 'Fqdaht', 'age': 44}, {'name': 'Gka', 'age': 31}, {'name': 'Rvvmwp', 'age': 89}, {'name': 'Ybfd', 'age': 47}, {'name': 'Bgzvixdhyr', 'age': 83}, {'name': 'Uaso', 'age': 57}, {'name': 'Oeubxiajvyzwi', 'age': 36}, {'name': 'Nuplltfdhmsqp', 'age': 22}, {'name': 'Siiryy', 'age': 94}, {'name': 'Frh', 'age': 45}, {'name': 'Iawyuvznh', 'age': 67}, {'name': 'Qvzo', 'age': 20}, {'name': 'Bymkzny', 'age': 23}, {'name': 'Rrjoo', 'age': 86}, {'name': 'Pkwvx', 'age': 75}, {'name': 'Wifldqbeagx', 'age': 61}, {'name': 'Hskvubqncrwin', 'age': 69}, {'name': 'Jlfrnxguhxm', 'age': 69}, {'name': 'Fxqg', 'age': 60}, {'name': 'Opntwk', 'age': 63}, {'name': 'Ctbrnkpuvb', 'age': 78}, {'name': 'Ocaollcdwk', 'age': 100}, {'name': 'Boxcijjoklcjb', 'age': 76}, {'name': 'Hfphnctm', 'age': 10}, {'name': 'Ncvxalltmtfs', 'age': 51}, {'name': 'Bhecff', 'age': 6}, {'name': 'Oi', 'age': 76}, {'name': 'Sxpw', 'age': 53}, {'name': 'Vxvdztwaxli', 'age': 15}, {'name': 'Tkin', 'age': 30}, {'name': 'Nahtebxdaa', 'age': 99}, {'name': 'If', 'age': 29}, {'name': 'Yytpsdyk', 'age': 90}, {'name': 'Jz', 'age': 53}, {'name': 'Nebihubnqjeo', 'age': 7}, {'name': 'Qtpafbvtkhxug', 'age': 43}, {'name': 'Ha', 'age': 47}, {'name': 'Oew', 'age': 47}, {'name': 'Rpptrqjkxnbtz', 'age': 100}, {'name': 'Rtzkohyobpuj', 'age': 53}, {'name': 'Tedtbethovrtm', 'age': 45}, {'name': 'Tyh', 'age': 51}, {'name': 'Jueto', 'age': 21}, {'name': 'Tujvrusqjnl', 'age': 62}, {'name': 'Cbwc', 'age': 32}, {'name': 'Vripaozhgmp', 'age': 94}, {'name': 'Gaxn', 'age': 68}, {'name': 'Iustkn', 'age': 72}, {'name': 'Kdvpv', 'age': 72}, {'name': 'Tsw', 'age': 91}, {'name': 'Fqlpdyqgkqtik', 'age': 2}]\n"
          ],
          "name": "stdout"
        }
      ]
    }
  ]
}