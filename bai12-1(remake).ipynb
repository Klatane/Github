{
  "nbformat": 4,
  "nbformat_minor": 0,
  "metadata": {
    "colab": {
      "name": "Untitled4.ipynb",
      "provenance": [],
      "collapsed_sections": [],
      "authorship_tag": "ABX9TyNlPqSY489cctxhcMdNS0fg",
      "include_colab_link": true
    },
    "kernelspec": {
      "name": "python3",
      "display_name": "Python 3"
    }
  },
  "cells": [
    {
      "cell_type": "markdown",
      "metadata": {
        "id": "view-in-github",
        "colab_type": "text"
      },
      "source": [
        "<a href=\"https://colab.research.google.com/github/Klatane/Github/blob/master/bai12-1(remake).ipynb\" target=\"_parent\"><img src=\"https://colab.research.google.com/assets/colab-badge.svg\" alt=\"Open In Colab\"/></a>"
      ]
    },
    {
      "cell_type": "code",
      "metadata": {
        "colab": {
          "base_uri": "https://localhost:8080/"
        },
        "id": "Qq6_ozUFdY8r",
        "outputId": "fa495e01-9837-4e42-965b-7a1d26426c6e"
      },
      "source": [
        "# nhap n trong khoang cho phep\n",
        "import random\n",
        "while True:\n",
        "    n=int(input(\"n=\"))\n",
        "    if n in range(50,1001):\n",
        "    \n",
        "      break       \n",
        "    else:\n",
        "        print(\"nhap lai\")\n",
        "randomlist = random.sample(range(-1000,1001), n)\n",
        "print(randomlist)\n",
        "\n",
        "\n",
        "a = []\n",
        "for i in range(0, n+1):\n",
        "    x = round(random.uniform(-1000,1000),1)\n",
        "    a.append(x)\n",
        "\n",
        "print(\"List gồm các phân tử số thực là\")\n",
        "print(a)\n",
        "    "
      ],
      "execution_count": 1,
      "outputs": [
        {
          "output_type": "stream",
          "text": [
            "n=56\n",
            "[658, -748, -796, 653, -206, 242, -143, 368, 241, -775, 27, -924, -905, 234, 200, 136, -591, -670, -934, -230, 306, 178, 111, 767, -28, 369, -731, -603, -723, -610, -345, 569, 853, -90, 490, -812, -981, 228, 418, -462, -340, 388, 265, -941, 711, 52, 282, -665, -780, 389, -444, 794, -556, 114, -167, -915]\n",
            "Printing list of 10 random float numbers\n",
            "[342.7, -307.6, 673.8, -194.0, -362.2, -631.8, -198.5, -763.1, -899.6, -379.1, 684.7, -802.6, -344.0, -406.3, -141.8, 900.7, 958.3, 94.8, 494.7, 603.9, 531.1, -314.8, 36.8, 11.1, 70.3, -605.2, -294.4, 943.9, 727.6, -666.3, 265.3, 202.5, 745.6, -783.8, -194.0, -823.8, -951.9, 967.3, -81.1, -229.0, -441.6, 632.4, 985.6, 301.9, -954.8, 708.5, -128.1, -687.2, -650.4, -239.0, -587.3, 929.9, 735.1, -37.5, 418.7, 886.6, -337.6]\n"
          ],
          "name": "stdout"
        }
      ]
    }
  ]
}