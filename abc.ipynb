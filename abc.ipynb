{
  "nbformat": 4,
  "nbformat_minor": 0,
  "metadata": {
    "colab": {
      "name": "Untitled17.ipynb",
      "provenance": [],
      "collapsed_sections": [],
      "authorship_tag": "ABX9TyPJx+hxLUH1sz5Usx3G9wSH",
      "include_colab_link": true
    },
    "kernelspec": {
      "name": "python3",
      "display_name": "Python 3"
    }
  },
  "cells": [
    {
      "cell_type": "markdown",
      "metadata": {
        "id": "view-in-github",
        "colab_type": "text"
      },
      "source": [
        "<a href=\"https://colab.research.google.com/github/Klatane/Github/blob/master/abc.ipynb\" target=\"_parent\"><img src=\"https://colab.research.google.com/assets/colab-badge.svg\" alt=\"Open In Colab\"/></a>"
      ]
    },
    {
      "cell_type": "code",
      "metadata": {
        "colab": {
          "base_uri": "https://localhost:8080/"
        },
        "id": "iEfQVUcB9sgk",
        "outputId": "ba8b0c43-d2a6-4d3b-8bf2-cc64adbdcf4c"
      },
      "source": [
        "\r\n",
        "def Thaphanoi(n , vt1, vt2, a): \r\n",
        "    if n==1: \r\n",
        "        print (\"Chuyển đĩa 1 từ vị trí\",vt1,\"đến vị trí\",vt2 )\r\n",
        "        return\r\n",
        "    Thaphanoi(n-1, vt1, a, vt2) \r\n",
        "    print (\"Chuyển đĩa\",n,\"tự vị trí\",vt1,\"đến vị trí\",vt2 )\r\n",
        "    Thaphanoi(n-1, a, vt2, vt1) \r\n",
        "          \r\n",
        "\r\n",
        "n = 4\r\n",
        "Thaphanoi(n,'A','B','C')  \r\n",
        "\r\n"
      ],
      "execution_count": 6,
      "outputs": [
        {
          "output_type": "stream",
          "text": [
            "Chuyển đĩa 1 từ vị trí A đến vị trí C\n",
            "Chuyển đĩa 2 tự vị trí A đến vị trí B\n",
            "Chuyển đĩa 1 từ vị trí C đến vị trí B\n",
            "Chuyển đĩa 3 tự vị trí A đến vị trí C\n",
            "Chuyển đĩa 1 từ vị trí B đến vị trí A\n",
            "Chuyển đĩa 2 tự vị trí B đến vị trí C\n",
            "Chuyển đĩa 1 từ vị trí A đến vị trí C\n",
            "Chuyển đĩa 4 tự vị trí A đến vị trí B\n",
            "Chuyển đĩa 1 từ vị trí C đến vị trí B\n",
            "Chuyển đĩa 2 tự vị trí C đến vị trí A\n",
            "Chuyển đĩa 1 từ vị trí B đến vị trí A\n",
            "Chuyển đĩa 3 tự vị trí C đến vị trí B\n",
            "Chuyển đĩa 1 từ vị trí A đến vị trí C\n",
            "Chuyển đĩa 2 tự vị trí A đến vị trí B\n",
            "Chuyển đĩa 1 từ vị trí C đến vị trí B\n"
          ],
          "name": "stdout"
        }
      ]
    }
  ]
}