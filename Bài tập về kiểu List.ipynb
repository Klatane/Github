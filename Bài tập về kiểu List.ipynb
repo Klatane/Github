{
  "nbformat": 4,
  "nbformat_minor": 0,
  "metadata": {
    "colab": {
      "name": "Untitled1.ipynb",
      "provenance": [],
      "authorship_tag": "ABX9TyPfWJSi/d4+PohWss1gU93C",
      "include_colab_link": true
    },
    "kernelspec": {
      "name": "python3",
      "display_name": "Python 3"
    }
  },
  "cells": [
    {
      "cell_type": "markdown",
      "metadata": {
        "id": "view-in-github",
        "colab_type": "text"
      },
      "source": [
        "<a href=\"https://colab.research.google.com/github/Klatane/Github/blob/master/B%C3%A0i%20t%E1%BA%ADp%20v%E1%BB%81%20ki%E1%BB%83u%20List.ipynb\" target=\"_parent\"><img src=\"https://colab.research.google.com/assets/colab-badge.svg\" alt=\"Open In Colab\"/></a>"
      ]
    },
    {
      "cell_type": "code",
      "metadata": {
        "id": "ePxTiPEmL0tz",
        "outputId": "b9c9339a-97d5-4f13-e128-f11ff9f5e262",
        "colab": {
          "base_uri": "https://localhost:8080/"
        }
      },
      "source": [
        "x = list()\n",
        "x . append(18)\n",
        "x . append(\"Huế\")\n",
        "y = [12,45,-1,-0.56,\"abc\"]\n",
        "x . extend(y)\n",
        "print (\"giá trị của x là:\",x)\n",
        "z=x[6]\n",
        "c=x[0]\n",
        "print (\"phần tử đầu tiên và cuối cùng của x là :\",c ,z)\n",
        "print (\"phần tử đầu tiên đến phần tử thứ 5 của x là:\",x[0:5])\n",
        "print (\"phần tử thứ 3 đến phần tử cuối cùng của x là\",x[2:7])\n",
        "\n"
      ],
      "execution_count": 28,
      "outputs": [
        {
          "output_type": "stream",
          "text": [
            "giá trị của x là: [18, 'Huế', 12, 45, -1, -0.56, 'abc']\n",
            "phần tử đầu tiên và cuối cùng của x là : 18 abc\n",
            "phần tử đầu tiên đến phần tử thứ 5 của x là: [18, 'Huế', 12, 45, -1]\n",
            "phần tử thứ 3 đến phần tử cuối cùng của x là [12, 45, -1, -0.56, 'abc']\n"
          ],
          "name": "stdout"
        }
      ]
    }
  ]
}