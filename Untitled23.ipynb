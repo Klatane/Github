{
  "nbformat": 4,
  "nbformat_minor": 0,
  "metadata": {
    "colab": {
      "name": "Untitled23.ipynb",
      "provenance": [],
      "authorship_tag": "ABX9TyMEyB5L4WTHDQRL/7EeZ61h",
      "include_colab_link": true
    },
    "kernelspec": {
      "name": "python3",
      "display_name": "Python 3"
    },
    "language_info": {
      "name": "python"
    }
  },
  "cells": [
    {
      "cell_type": "markdown",
      "metadata": {
        "id": "view-in-github",
        "colab_type": "text"
      },
      "source": [
        "<a href=\"https://colab.research.google.com/github/Klatane/Github/blob/master/Untitled23.ipynb\" target=\"_parent\"><img src=\"https://colab.research.google.com/assets/colab-badge.svg\" alt=\"Open In Colab\"/></a>"
      ]
    },
    {
      "cell_type": "code",
      "metadata": {
        "id": "Lg6YFFRXTfD1",
        "outputId": "bf3c1c86-c547-434f-cc61-59617411b1bc",
        "colab": {
          "base_uri": "https://localhost:8080/",
          "height": 128
        }
      },
      "source": [
        "setwd(\"T:\\\\R\\\\thuc_hanh_16_4_21\")\n",
        "\n",
        "A = read.csv(\"Temperature.csv\", header = TRUE)\n",
        "trung_binh = tapply(A$Temperature, A$Month, mean, na.rm =TRUE)\n",
        "trung_binh\n",
        "trung_binh2 = tapply(A$Temperature, list(A$Year, A$Month), mean, na.rm =TRUE)\n",
        "trung_binh2\n",
        "trung_binh3 = tapply(A$Temperature, A$Month, sd, na.rm =TRUE)\n",
        "trung_binh3\n",
        "help(table)\n",
        "\n",
        "table(A$Year)\n",
        "table(A$Station,A$Year)"
      ],
      "execution_count": 1,
      "outputs": [
        {
          "output_type": "error",
          "ename": "SyntaxError",
          "evalue": "ignored",
          "traceback": [
            "\u001b[0;36m  File \u001b[0;32m\"<ipython-input-1-018993133e90>\"\u001b[0;36m, line \u001b[0;32m4\u001b[0m\n\u001b[0;31m    trung_binh = tapply(A$Temperature, A$Month, mean, na.rm =TRUE)\u001b[0m\n\u001b[0m                         ^\u001b[0m\n\u001b[0;31mSyntaxError\u001b[0m\u001b[0;31m:\u001b[0m invalid syntax\n"
          ]
        }
      ]
    }
  ]
}