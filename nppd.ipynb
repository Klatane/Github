{
  "nbformat": 4,
  "nbformat_minor": 0,
  "metadata": {
    "colab": {
      "name": "Untitled10.ipynb",
      "provenance": [],
      "authorship_tag": "ABX9TyN60mS5tnWSffDfuFQvrP6/",
      "include_colab_link": true
    },
    "kernelspec": {
      "name": "python3",
      "display_name": "Python 3"
    }
  },
  "cells": [
    {
      "cell_type": "markdown",
      "metadata": {
        "id": "view-in-github",
        "colab_type": "text"
      },
      "source": [
        "<a href=\"https://colab.research.google.com/github/Klatane/Github/blob/master/nppd.ipynb\" target=\"_parent\"><img src=\"https://colab.research.google.com/assets/colab-badge.svg\" alt=\"Open In Colab\"/></a>"
      ]
    },
    {
      "cell_type": "code",
      "metadata": {
        "id": "n_UcuuUEmZsK"
      },
      "source": [
        "import pandas as pd\r\n",
        "result = pd.read_csv('minh.csv')\r\n",
        "print(result.head(10))\r\n",
        "pdi = 'https://www.stats.govt.nz/assets/Uploads/Business-price-indexes/Business-price-indexes-September-2020-quarter/Download-data/business-price-indexes-september-2020-quarter-corrections-to-previously-published-statistics.csv'\r\n",
        "data = pd.read_csv(pdi)\r\n",
        "print(data.head(10))\r\n",
        "js = 'https://data.cese.nsw.gov.au/data/dataset/027493b2-33ad-3f5b-8ed9-37cdca2b8650/resource/af20d17c-a7ac-4251-af75-e5ae66573e92/download/collections.json'\r\n",
        "data1 = pd.read_json(js)\r\n",
        "print(data1.head(10))\r\n",
        "\r\n",
        "import numpy as np\r\n",
        "\r\n",
        "A = np.array([[6, 5], [8, -6]])\r\n",
        "B = np.array([[9, -3], [2, 6]])\r\n",
        "C = A + B\r\n",
        "print(C)\r\n",
        "D = A.dot(B)\r\n",
        "print(D)\r\n",
        "print(A.transpose())"
      ],
      "execution_count": null,
      "outputs": []
    }
  ]
}