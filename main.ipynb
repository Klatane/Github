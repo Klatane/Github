{
  "nbformat": 4,
  "nbformat_minor": 0,
  "metadata": {
    "colab": {
      "name": "Untitled14.ipynb",
      "provenance": [],
      "authorship_tag": "ABX9TyN86AKxZTsSnoPL7ke71QfQ",
      "include_colab_link": true
    },
    "kernelspec": {
      "name": "python3",
      "display_name": "Python 3"
    }
  },
  "cells": [
    {
      "cell_type": "markdown",
      "metadata": {
        "id": "view-in-github",
        "colab_type": "text"
      },
      "source": [
        "<a href=\"https://colab.research.google.com/github/Klatane/Github/blob/master/main.ipynb\" target=\"_parent\"><img src=\"https://colab.research.google.com/assets/colab-badge.svg\" alt=\"Open In Colab\"/></a>"
      ]
    },
    {
      "cell_type": "code",
      "metadata": {
        "id": "bfZGu31wyKYb"
      },
      "source": [
        "import quet_url\r\n",
        "import luu_url\r\n",
        "\r\n",
        "\r\n",
        "def main():\r\n",
        "    url_goc = input('Nhập link khởi đầu: ')\r\n",
        "    so_luong_trang = int(input('nhập số lượng trang: '))\r\n",
        "    url_goc = quet_url.sua_url_goc(url_goc)\r\n",
        "    waiting_line = quet_url.url_lien_quan(url_goc, url_goc)\r\n",
        "    history = quet_url.them_va_duyet_hang_cho(waiting_line, url_goc, so_luong_trang)\r\n",
        "\r\n",
        "    luu_url.tao_thu_muc(input('Nhập tên thư mục lưu file: '))\r\n",
        "    luu_url.luu_tat_ca_file(history, so_luong_trang)\r\n",
        "\r\n",
        "\r\n",
        "if __name__ == '__main__':\r\n",
        "    main()"
      ],
      "execution_count": null,
      "outputs": []
    }
  ]
}