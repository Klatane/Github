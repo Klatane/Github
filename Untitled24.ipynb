{
  "nbformat": 4,
  "nbformat_minor": 0,
  "metadata": {
    "colab": {
      "name": "Untitled24.ipynb",
      "provenance": [],
      "authorship_tag": "ABX9TyPuYw9F25MBO8uoCSqIMKL7",
      "include_colab_link": true
    },
    "kernelspec": {
      "name": "python3",
      "display_name": "Python 3"
    },
    "language_info": {
      "name": "python"
    }
  },
  "cells": [
    {
      "cell_type": "markdown",
      "metadata": {
        "id": "view-in-github",
        "colab_type": "text"
      },
      "source": [
        "<a href=\"https://colab.research.google.com/github/Klatane/Github/blob/master/Untitled24.ipynb\" target=\"_parent\"><img src=\"https://colab.research.google.com/assets/colab-badge.svg\" alt=\"Open In Colab\"/></a>"
      ]
    },
    {
      "cell_type": "code",
      "metadata": {
        "id": "2ejsmhG6TcWN"
      },
      "source": [
        "# Câu 1\n",
        "\n",
        "answer <- 0\n",
        "for (j in 3:5){ answer <- j+answer }\n",
        "answer<- 10\n",
        "for (j in 3:5){ answer <- j+answer }\n",
        "answer <- 10\n",
        "for (j in 3:5){ answer <- j*answer }\n",
        "\n",
        "# Câu 2\n",
        "answer <- 10\n",
        "a <- prod(3:5)*answer\n",
        "a\n",
        "\n",
        "# Câu 3\n",
        "answer <- 0\n",
        "for (j in 1:100){ answer <- j+answer }\n",
        "\n",
        "sum(1:100)\n",
        "\n",
        "# Câu 4\n",
        "answer <- 1\n",
        "for (j in 1:50){ answer <- j*answer }\n",
        "\n",
        "answer <- 1\n",
        "a <- prod(1:50)*answer\n",
        "a\n",
        "\n",
        "# Câu 5\n",
        "\n",
        "radious <- 3:20\n",
        "volume <- (4*pi*radious^3)/3\n",
        "conversion <- data.frame(Celsius=radious, Fahrenheit=volume)\n",
        "print(conversion)\n",
        "\n",
        "# Câu 6\n",
        "factor_day <- factor(conversion, order = TRUE, levels =c('radius','volume'))\n",
        "factor_day\n",
        "sapply(conversion,length)\n",
        "sapply(conversion,sum)\n",
        "sapply(conversion,mean)\n",
        "sapply(conversion,cumsum)\n",
        "sapply(conversion,factor)"
      ],
      "execution_count": null,
      "outputs": []
    }
  ]
}