{
  "nbformat": 4,
  "nbformat_minor": 0,
  "metadata": {
    "colab": {
      "name": "Untitled8.ipynb",
      "provenance": [],
      "authorship_tag": "ABX9TyNBJol3AHrGSoJLvkgPxOca",
      "include_colab_link": true
    },
    "kernelspec": {
      "name": "python3",
      "display_name": "Python 3"
    }
  },
  "cells": [
    {
      "cell_type": "markdown",
      "metadata": {
        "id": "view-in-github",
        "colab_type": "text"
      },
      "source": [
        "<a href=\"https://colab.research.google.com/github/Klatane/Github/blob/master/Untitled8.ipynb\" target=\"_parent\"><img src=\"https://colab.research.google.com/assets/colab-badge.svg\" alt=\"Open In Colab\"/></a>"
      ]
    },
    {
      "cell_type": "code",
      "metadata": {
        "id": "kCN235pfk59U"
      },
      "source": [
        "import os\r\n",
        "x=input(\"ten thu muc: \")\r\n",
        "y=input(\"ten file: \")\r\n",
        "z=input(\"noi ban muon luu: \")\r\n",
        "os.chdir(z)\r\n",
        "os.mkdir(x)\r\n",
        "e= z + x\r\n",
        "os.chdir(e)\r\n",
        "f= open(y,\"w\")"
      ],
      "execution_count": null,
      "outputs": []
    }
  ]
}