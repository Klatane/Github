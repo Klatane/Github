{
  "nbformat": 4,
  "nbformat_minor": 0,
  "metadata": {
    "colab": {
      "name": "Untitled13.ipynb",
      "provenance": [],
      "collapsed_sections": [],
      "authorship_tag": "ABX9TyO6loVdeIX5IIc5fk2vugkd",
      "include_colab_link": true
    },
    "kernelspec": {
      "name": "python3",
      "display_name": "Python 3"
    }
  },
  "cells": [
    {
      "cell_type": "markdown",
      "metadata": {
        "id": "view-in-github",
        "colab_type": "text"
      },
      "source": [
        "<a href=\"https://colab.research.google.com/github/Klatane/Github/blob/master/pandas.ipynb\" target=\"_parent\"><img src=\"https://colab.research.google.com/assets/colab-badge.svg\" alt=\"Open In Colab\"/></a>"
      ]
    },
    {
      "cell_type": "code",
      "metadata": {
        "colab": {
          "base_uri": "https://localhost:8080/"
        },
        "id": "WdJIBS-VSdDV",
        "outputId": "339beabd-da1c-49f5-d519-9cfc056fe6d6"
      },
      "source": [
        "import pandas as pd\r\n",
        ">>> data = {\r\n",
        "    'Ten': ['Nhat Minh', 'Duy Thanh', 'Minh Huy', 'Dang Khoa', 'Dat Le'],\r\n",
        "    'city': ['Hue City', 'Ha Noi city', 'Ha Noi city', 'Da Nang city', 'HCM city'],\r\n",
        "    'age': [18, 18, 19, 19, 20],\r\n",
        "    'Diem Thi': [10, 8, 9, 5, 7]\r\n",
        "} \r\n",
        "row_labels = [1, 2, 3, 4, 5]\r\n",
        "ss = pd.DataFrame(data=data, index=row_labels) #tạo data frame\r\n",
        "print(ss)\r\n",
        "sort = ss.sort_values(by=['age']) #sort tuổi,có thể cho acen hoặc decend = hàm\r\n",
        "print(sort)\r\n",
        "gb = ss.groupby(by=[\"age\"]).sum() #sum là cộng,mean là trung bình\r\n",
        "print(\"Tong diem thi tung do tuoi la\",gb)\r\n",
        "\r\n",
        "\r\n"
      ],
      "execution_count": 6,
      "outputs": [
        {
          "output_type": "stream",
          "text": [
            "         Ten          city  age  Diem Thi\n",
            "1  Nhat Minh      Hue City   18        10\n",
            "2  Duy Thanh   Ha Noi city   18         8\n",
            "3   Minh Huy   Ha Noi city   19         9\n",
            "4  Dang Khoa  Da Nang city   19         5\n",
            "5     Dat Le      HCM city   20         7\n",
            "         Ten          city  age  Diem Thi\n",
            "1  Nhat Minh      Hue City   18        10\n",
            "2  Duy Thanh   Ha Noi city   18         8\n",
            "3   Minh Huy   Ha Noi city   19         9\n",
            "4  Dang Khoa  Da Nang city   19         5\n",
            "5     Dat Le      HCM city   20         7\n",
            "Tong diem thi tung do tuoi la      Diem Thi\n",
            "age          \n",
            "18         18\n",
            "19         14\n",
            "20          7\n"
          ],
          "name": "stdout"
        }
      ]
    }
  ]
}