{
  "nbformat": 4,
  "nbformat_minor": 0,
  "metadata": {
    "colab": {
      "name": "Untitled11.ipynb",
      "provenance": [],
      "authorship_tag": "ABX9TyMWUbATjnjjBYUbAM+bG6+x",
      "include_colab_link": true
    },
    "kernelspec": {
      "name": "python3",
      "display_name": "Python 3"
    }
  },
  "cells": [
    {
      "cell_type": "markdown",
      "metadata": {
        "id": "view-in-github",
        "colab_type": "text"
      },
      "source": [
        "<a href=\"https://colab.research.google.com/github/Klatane/Github/blob/master/mail%20mail%20mail.ipynb\" target=\"_parent\"><img src=\"https://colab.research.google.com/assets/colab-badge.svg\" alt=\"Open In Colab\"/></a>"
      ]
    },
    {
      "cell_type": "code",
      "metadata": {
        "id": "a4QG2yOXnFLV"
      },
      "source": [
        "  \r\n",
        "import smtplib\r\n",
        "\r\n",
        "sender_email = input(\"nhap email cua ban: \")\r\n",
        "rec_email = input(\"nhap email nhan: \")\r\n",
        "password = input(str(\"pass: \"))\r\n",
        "message = input(\"nhap noi dung: \")\r\n",
        "n = int(input(\"so lan ban muon gui: \"))\r\n",
        "for i in range(n):\r\n",
        " sever = smtplib.SMTP('smtp.gmail.com',587)\r\n",
        " sever.starttls()\r\n",
        " sever.login(sender_email,password)\r\n",
        " print(\"thanh cong\")\r\n",
        " sever.sendmail(sender_email,rec_email,message)\r\n",
        " print(\"da gui den:\",rec_email)"
      ],
      "execution_count": null,
      "outputs": []
    }
  ]
}